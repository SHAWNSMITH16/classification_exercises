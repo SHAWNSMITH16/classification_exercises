{
 "cells": [
  {
   "cell_type": "code",
   "execution_count": 90,
   "id": "6d75fcaf",
   "metadata": {},
   "outputs": [],
   "source": [
    "import pandas as pd\n",
    "from sklearn.metrics import confusion_matrix, classification_report\n",
    "import sklearn.metrics"
   ]
  },
  {
   "cell_type": "markdown",
   "id": "11553934",
   "metadata": {},
   "source": [
    "Given the following confusion matrix, evaluate (by hand) the model's performance.\n",
    "\n",
    "\n",
    "|               | pred dog   | pred cat   |\n",
    "|:------------  |-----------:|-----------:|\n",
    "| actual dog    |         46 |         7  |\n",
    "| actual cat    |         13 |         34 |\n",
    "\n",
    "I like cats more so I will use them as my positive class and dogs as my negative class\n",
    "\n",
    "In the context of this problem, what is a false positive? predicting it was a cat when it was actually a dog\n",
    "\n",
    "In the context of this problem, what is a false negative? predicting it was a dog when it was actaully a cat\n",
    "\n",
    "How would you describe this model? I would say this model is pretty accurate in predicting the correct animal\n"
   ]
  },
  {
   "cell_type": "code",
   "execution_count": 10,
   "id": "0822db61",
   "metadata": {},
   "outputs": [],
   "source": [
    "true_pos = 34\n",
    "true_neg = 46\n",
    "false_pos = 7\n",
    "false_neg = 13"
   ]
  },
  {
   "cell_type": "code",
   "execution_count": 16,
   "id": "c4798f5f",
   "metadata": {},
   "outputs": [
    {
     "name": "stdout",
     "output_type": "stream",
     "text": [
      "80.0 %\n"
     ]
    }
   ],
   "source": [
    "# accuracy TP + TN / TP + TN + FP + FN\n",
    "accuracy = (true_pos + true_neg) / (true_neg + true_pos + false_neg + false_pos)\n",
    "print(accuracy * 100, '%')"
   ]
  },
  {
   "cell_type": "code",
   "execution_count": 21,
   "id": "7ead0831",
   "metadata": {},
   "outputs": [
    {
     "name": "stdout",
     "output_type": "stream",
     "text": [
      "83 %\n"
     ]
    }
   ],
   "source": [
    "# precision TP / TP + FP\n",
    "precision = true_pos / (true_pos + false_pos)\n",
    "print(round(precision * 100), '%')"
   ]
  },
  {
   "cell_type": "code",
   "execution_count": 22,
   "id": "208d83f7",
   "metadata": {},
   "outputs": [
    {
     "name": "stdout",
     "output_type": "stream",
     "text": [
      "72 %\n"
     ]
    }
   ],
   "source": [
    "# recall TP / TP + FN\n",
    "recall = true_pos / (true_pos + false_neg)\n",
    "print(round(recall * 100), '%')"
   ]
  },
  {
   "cell_type": "markdown",
   "id": "feaeb3e7",
   "metadata": {},
   "source": [
    "You are working as a datascientist working for Codeup Cody Creator (C3 for short), a rubber-duck manufacturing plant.\n",
    "\n",
    "Unfortunately, some of the rubber ducks that are produced will have defects. Your team has built several models that try to predict those defects, and the data from their predictions can be found here.\n",
    "\n",
    "Use the predictions dataset and pandas to help answer the following questions:\n",
    "\n",
    "An internal team wants to investigate the cause of the manufacturing defects. They tell you that they want to identify as many of the ducks that have a defect as possible. \n",
    "- Which evaluation metric would be appropriate here? Recall would be best so you don't accidentally send out defective duckies (to avoid false negatives)\n",
    "- Which model would be the best fit for this use case? Model 3 would be best for this case as it had the highest recall percentage\n"
   ]
  },
  {
   "cell_type": "code",
   "execution_count": 41,
   "id": "7e036046",
   "metadata": {},
   "outputs": [],
   "source": [
    "df = pd.read_csv('c3.csv')"
   ]
  },
  {
   "cell_type": "code",
   "execution_count": 46,
   "id": "5bc198a2",
   "metadata": {},
   "outputs": [
    {
     "data": {
      "text/plain": [
       "0      False\n",
       "1      False\n",
       "2      False\n",
       "3      False\n",
       "4      False\n",
       "       ...  \n",
       "195    False\n",
       "196     True\n",
       "197    False\n",
       "198    False\n",
       "199    False\n",
       "Name: actual, Length: 200, dtype: bool"
      ]
     },
     "execution_count": 46,
     "metadata": {},
     "output_type": "execute_result"
    }
   ],
   "source": [
    "subset = df.actual == 'Defect'\n",
    "subset"
   ]
  },
  {
   "cell_type": "code",
   "execution_count": 48,
   "id": "fdac2188",
   "metadata": {},
   "outputs": [
    {
     "data": {
      "text/html": [
       "<div>\n",
       "<style scoped>\n",
       "    .dataframe tbody tr th:only-of-type {\n",
       "        vertical-align: middle;\n",
       "    }\n",
       "\n",
       "    .dataframe tbody tr th {\n",
       "        vertical-align: top;\n",
       "    }\n",
       "\n",
       "    .dataframe thead th {\n",
       "        text-align: right;\n",
       "    }\n",
       "</style>\n",
       "<table border=\"1\" class=\"dataframe\">\n",
       "  <thead>\n",
       "    <tr style=\"text-align: right;\">\n",
       "      <th></th>\n",
       "      <th>actual</th>\n",
       "      <th>model1</th>\n",
       "      <th>model2</th>\n",
       "      <th>model3</th>\n",
       "    </tr>\n",
       "  </thead>\n",
       "  <tbody>\n",
       "    <tr>\n",
       "      <th>13</th>\n",
       "      <td>Defect</td>\n",
       "      <td>No Defect</td>\n",
       "      <td>Defect</td>\n",
       "      <td>Defect</td>\n",
       "    </tr>\n",
       "    <tr>\n",
       "      <th>30</th>\n",
       "      <td>Defect</td>\n",
       "      <td>Defect</td>\n",
       "      <td>No Defect</td>\n",
       "      <td>Defect</td>\n",
       "    </tr>\n",
       "    <tr>\n",
       "      <th>65</th>\n",
       "      <td>Defect</td>\n",
       "      <td>Defect</td>\n",
       "      <td>Defect</td>\n",
       "      <td>Defect</td>\n",
       "    </tr>\n",
       "    <tr>\n",
       "      <th>70</th>\n",
       "      <td>Defect</td>\n",
       "      <td>Defect</td>\n",
       "      <td>Defect</td>\n",
       "      <td>Defect</td>\n",
       "    </tr>\n",
       "    <tr>\n",
       "      <th>74</th>\n",
       "      <td>Defect</td>\n",
       "      <td>No Defect</td>\n",
       "      <td>No Defect</td>\n",
       "      <td>Defect</td>\n",
       "    </tr>\n",
       "    <tr>\n",
       "      <th>87</th>\n",
       "      <td>Defect</td>\n",
       "      <td>No Defect</td>\n",
       "      <td>Defect</td>\n",
       "      <td>Defect</td>\n",
       "    </tr>\n",
       "    <tr>\n",
       "      <th>118</th>\n",
       "      <td>Defect</td>\n",
       "      <td>No Defect</td>\n",
       "      <td>Defect</td>\n",
       "      <td>No Defect</td>\n",
       "    </tr>\n",
       "    <tr>\n",
       "      <th>135</th>\n",
       "      <td>Defect</td>\n",
       "      <td>Defect</td>\n",
       "      <td>No Defect</td>\n",
       "      <td>Defect</td>\n",
       "    </tr>\n",
       "    <tr>\n",
       "      <th>140</th>\n",
       "      <td>Defect</td>\n",
       "      <td>No Defect</td>\n",
       "      <td>Defect</td>\n",
       "      <td>Defect</td>\n",
       "    </tr>\n",
       "    <tr>\n",
       "      <th>147</th>\n",
       "      <td>Defect</td>\n",
       "      <td>Defect</td>\n",
       "      <td>No Defect</td>\n",
       "      <td>Defect</td>\n",
       "    </tr>\n",
       "    <tr>\n",
       "      <th>163</th>\n",
       "      <td>Defect</td>\n",
       "      <td>Defect</td>\n",
       "      <td>Defect</td>\n",
       "      <td>Defect</td>\n",
       "    </tr>\n",
       "    <tr>\n",
       "      <th>171</th>\n",
       "      <td>Defect</td>\n",
       "      <td>No Defect</td>\n",
       "      <td>Defect</td>\n",
       "      <td>Defect</td>\n",
       "    </tr>\n",
       "    <tr>\n",
       "      <th>176</th>\n",
       "      <td>Defect</td>\n",
       "      <td>No Defect</td>\n",
       "      <td>Defect</td>\n",
       "      <td>Defect</td>\n",
       "    </tr>\n",
       "    <tr>\n",
       "      <th>186</th>\n",
       "      <td>Defect</td>\n",
       "      <td>No Defect</td>\n",
       "      <td>No Defect</td>\n",
       "      <td>No Defect</td>\n",
       "    </tr>\n",
       "    <tr>\n",
       "      <th>194</th>\n",
       "      <td>Defect</td>\n",
       "      <td>Defect</td>\n",
       "      <td>No Defect</td>\n",
       "      <td>Defect</td>\n",
       "    </tr>\n",
       "    <tr>\n",
       "      <th>196</th>\n",
       "      <td>Defect</td>\n",
       "      <td>Defect</td>\n",
       "      <td>No Defect</td>\n",
       "      <td>No Defect</td>\n",
       "    </tr>\n",
       "  </tbody>\n",
       "</table>\n",
       "</div>"
      ],
      "text/plain": [
       "     actual     model1     model2     model3\n",
       "13   Defect  No Defect     Defect     Defect\n",
       "30   Defect     Defect  No Defect     Defect\n",
       "65   Defect     Defect     Defect     Defect\n",
       "70   Defect     Defect     Defect     Defect\n",
       "74   Defect  No Defect  No Defect     Defect\n",
       "87   Defect  No Defect     Defect     Defect\n",
       "118  Defect  No Defect     Defect  No Defect\n",
       "135  Defect     Defect  No Defect     Defect\n",
       "140  Defect  No Defect     Defect     Defect\n",
       "147  Defect     Defect  No Defect     Defect\n",
       "163  Defect     Defect     Defect     Defect\n",
       "171  Defect  No Defect     Defect     Defect\n",
       "176  Defect  No Defect     Defect     Defect\n",
       "186  Defect  No Defect  No Defect  No Defect\n",
       "194  Defect     Defect  No Defect     Defect\n",
       "196  Defect     Defect  No Defect  No Defect"
      ]
     },
     "execution_count": 48,
     "metadata": {},
     "output_type": "execute_result"
    }
   ],
   "source": [
    "recall = df[subset]\n",
    "recall"
   ]
  },
  {
   "cell_type": "code",
   "execution_count": 49,
   "id": "ba31c26b",
   "metadata": {},
   "outputs": [
    {
     "data": {
      "text/plain": [
       "0.5"
      ]
     },
     "execution_count": 49,
     "metadata": {},
     "output_type": "execute_result"
    }
   ],
   "source": [
    "(recall.actual == recall.model1).mean()"
   ]
  },
  {
   "cell_type": "code",
   "execution_count": 50,
   "id": "9cefa90a",
   "metadata": {},
   "outputs": [
    {
     "data": {
      "text/plain": [
       "0.5625"
      ]
     },
     "execution_count": 50,
     "metadata": {},
     "output_type": "execute_result"
    }
   ],
   "source": [
    "(recall.actual == recall.model2).mean()"
   ]
  },
  {
   "cell_type": "code",
   "execution_count": 51,
   "id": "b0341793",
   "metadata": {},
   "outputs": [
    {
     "data": {
      "text/plain": [
       "0.8125"
      ]
     },
     "execution_count": 51,
     "metadata": {},
     "output_type": "execute_result"
    }
   ],
   "source": [
    "(recall.actual == recall.model3).mean()"
   ]
  },
  {
   "cell_type": "markdown",
   "id": "e7933b82",
   "metadata": {},
   "source": [
    "- Recently several stories in the local news have come out highlighting customers who received a rubber duck with a defect, and portraying C3 in a bad light. The PR team has decided to launch a program that gives customers with a defective duck a vacation to Hawaii. They need you to predict which ducks will have defects, but tell you the really don't want to accidentally give out a vacation package when the duck really doesn't have a defect. \n",
    "- Which evaluation metric would be appropriate here? Precision would be best to eliminate the as many false positives as possible\n",
    "- Which model would be the best fit for this use case? Model 1 would be the best for this case"
   ]
  },
  {
   "cell_type": "code",
   "execution_count": 59,
   "id": "9e7b245a",
   "metadata": {},
   "outputs": [],
   "source": [
    "subset1 = df.model1 == 'Defect'\n",
    "subset1\n",
    "\n",
    "subset2 = df.model2 == 'Defect'\n",
    "\n",
    "subset3 = df.model3 == 'Defect'"
   ]
  },
  {
   "cell_type": "code",
   "execution_count": 69,
   "id": "79c52ac3",
   "metadata": {},
   "outputs": [],
   "source": [
    "precision = df[subset1]"
   ]
  },
  {
   "cell_type": "code",
   "execution_count": 57,
   "id": "04c173cc",
   "metadata": {},
   "outputs": [
    {
     "name": "stdout",
     "output_type": "stream",
     "text": [
      "80.0 %\n"
     ]
    }
   ],
   "source": [
    "print((precision.actual == precision.model1).mean() * 100, '%')"
   ]
  },
  {
   "cell_type": "code",
   "execution_count": 68,
   "id": "bb290931",
   "metadata": {},
   "outputs": [],
   "source": [
    "precision2 = df[subset2]"
   ]
  },
  {
   "cell_type": "code",
   "execution_count": 66,
   "id": "7c68d97c",
   "metadata": {},
   "outputs": [
    {
     "name": "stdout",
     "output_type": "stream",
     "text": [
      "10 %\n"
     ]
    }
   ],
   "source": [
    "print(round((precision2.actual == precision2.model2).mean() * 100), '%')"
   ]
  },
  {
   "cell_type": "code",
   "execution_count": 67,
   "id": "3bed09ba",
   "metadata": {},
   "outputs": [],
   "source": [
    "precision3 = df[subset3]"
   ]
  },
  {
   "cell_type": "code",
   "execution_count": 65,
   "id": "f9b5a158",
   "metadata": {},
   "outputs": [
    {
     "name": "stdout",
     "output_type": "stream",
     "text": [
      "13 %\n"
     ]
    }
   ],
   "source": [
    "print(round((precision3.actual == precision3.model3).mean() * 100), '%')"
   ]
  },
  {
   "cell_type": "markdown",
   "id": "76875eb2",
   "metadata": {},
   "source": [
    "You are working as a data scientist for Gives You Paws ™, a subscription based service that shows you cute pictures of dogs or cats (or both for an additional fee).\n",
    "\n",
    "At Gives You Paws, anyone can upload pictures of their cats or dogs. The photos are then put through a two step process. First an automated algorithm tags pictures as either a cat or a dog (Phase I). Next, the photos that have been initially identified are put through another round of review, possibly with some human oversight, before being presented to the users (Phase II).\n",
    "\n",
    "Several models have already been developed with the data, and you can find their results here.\n",
    "\n",
    "Given this dataset, use pandas to create a baseline model (i.e. a model that just predicts the most common class) and answer the following questions:\n",
    "\n",
    "In terms of accuracy, how do the various models compare to the baseline model? Are any of the models better than the baseline? Model 1 was the most accurate in predicting correctly\n",
    "\n",
    "Suppose you are working on a team that solely deals with dog pictures. Which of these models would you recommend?\n",
    "Models 1 and 2 are both very good for this with model 2 being fractionally better. \n",
    "\n",
    "Suppose you are working on a team that solely deals with cat pictures. Which of these models would you recommend?\n",
    "Model 4 is the most precise when predicitng for only cats"
   ]
  },
  {
   "cell_type": "code",
   "execution_count": 96,
   "id": "3a4cdf18",
   "metadata": {},
   "outputs": [],
   "source": [
    "new_df = pd.read_csv('gives_you_paws.csv')"
   ]
  },
  {
   "cell_type": "code",
   "execution_count": 97,
   "id": "4f277ff2",
   "metadata": {},
   "outputs": [
    {
     "data": {
      "text/html": [
       "<div>\n",
       "<style scoped>\n",
       "    .dataframe tbody tr th:only-of-type {\n",
       "        vertical-align: middle;\n",
       "    }\n",
       "\n",
       "    .dataframe tbody tr th {\n",
       "        vertical-align: top;\n",
       "    }\n",
       "\n",
       "    .dataframe thead th {\n",
       "        text-align: right;\n",
       "    }\n",
       "</style>\n",
       "<table border=\"1\" class=\"dataframe\">\n",
       "  <thead>\n",
       "    <tr style=\"text-align: right;\">\n",
       "      <th></th>\n",
       "      <th>actual</th>\n",
       "      <th>model1</th>\n",
       "      <th>model2</th>\n",
       "      <th>model3</th>\n",
       "      <th>model4</th>\n",
       "    </tr>\n",
       "  </thead>\n",
       "  <tbody>\n",
       "    <tr>\n",
       "      <th>0</th>\n",
       "      <td>cat</td>\n",
       "      <td>cat</td>\n",
       "      <td>dog</td>\n",
       "      <td>cat</td>\n",
       "      <td>dog</td>\n",
       "    </tr>\n",
       "    <tr>\n",
       "      <th>1</th>\n",
       "      <td>dog</td>\n",
       "      <td>dog</td>\n",
       "      <td>cat</td>\n",
       "      <td>cat</td>\n",
       "      <td>dog</td>\n",
       "    </tr>\n",
       "    <tr>\n",
       "      <th>2</th>\n",
       "      <td>dog</td>\n",
       "      <td>cat</td>\n",
       "      <td>cat</td>\n",
       "      <td>cat</td>\n",
       "      <td>dog</td>\n",
       "    </tr>\n",
       "    <tr>\n",
       "      <th>3</th>\n",
       "      <td>dog</td>\n",
       "      <td>dog</td>\n",
       "      <td>dog</td>\n",
       "      <td>cat</td>\n",
       "      <td>dog</td>\n",
       "    </tr>\n",
       "    <tr>\n",
       "      <th>4</th>\n",
       "      <td>cat</td>\n",
       "      <td>cat</td>\n",
       "      <td>cat</td>\n",
       "      <td>dog</td>\n",
       "      <td>dog</td>\n",
       "    </tr>\n",
       "    <tr>\n",
       "      <th>...</th>\n",
       "      <td>...</td>\n",
       "      <td>...</td>\n",
       "      <td>...</td>\n",
       "      <td>...</td>\n",
       "      <td>...</td>\n",
       "    </tr>\n",
       "    <tr>\n",
       "      <th>4995</th>\n",
       "      <td>dog</td>\n",
       "      <td>dog</td>\n",
       "      <td>dog</td>\n",
       "      <td>dog</td>\n",
       "      <td>dog</td>\n",
       "    </tr>\n",
       "    <tr>\n",
       "      <th>4996</th>\n",
       "      <td>dog</td>\n",
       "      <td>dog</td>\n",
       "      <td>cat</td>\n",
       "      <td>cat</td>\n",
       "      <td>dog</td>\n",
       "    </tr>\n",
       "    <tr>\n",
       "      <th>4997</th>\n",
       "      <td>dog</td>\n",
       "      <td>cat</td>\n",
       "      <td>cat</td>\n",
       "      <td>dog</td>\n",
       "      <td>dog</td>\n",
       "    </tr>\n",
       "    <tr>\n",
       "      <th>4998</th>\n",
       "      <td>cat</td>\n",
       "      <td>cat</td>\n",
       "      <td>cat</td>\n",
       "      <td>cat</td>\n",
       "      <td>dog</td>\n",
       "    </tr>\n",
       "    <tr>\n",
       "      <th>4999</th>\n",
       "      <td>dog</td>\n",
       "      <td>dog</td>\n",
       "      <td>dog</td>\n",
       "      <td>dog</td>\n",
       "      <td>dog</td>\n",
       "    </tr>\n",
       "  </tbody>\n",
       "</table>\n",
       "<p>5000 rows × 5 columns</p>\n",
       "</div>"
      ],
      "text/plain": [
       "     actual model1 model2 model3 model4\n",
       "0       cat    cat    dog    cat    dog\n",
       "1       dog    dog    cat    cat    dog\n",
       "2       dog    cat    cat    cat    dog\n",
       "3       dog    dog    dog    cat    dog\n",
       "4       cat    cat    cat    dog    dog\n",
       "...     ...    ...    ...    ...    ...\n",
       "4995    dog    dog    dog    dog    dog\n",
       "4996    dog    dog    cat    cat    dog\n",
       "4997    dog    cat    cat    dog    dog\n",
       "4998    cat    cat    cat    cat    dog\n",
       "4999    dog    dog    dog    dog    dog\n",
       "\n",
       "[5000 rows x 5 columns]"
      ]
     },
     "execution_count": 97,
     "metadata": {},
     "output_type": "execute_result"
    }
   ],
   "source": [
    "new_df"
   ]
  },
  {
   "cell_type": "code",
   "execution_count": 136,
   "id": "9e664fc4",
   "metadata": {},
   "outputs": [
    {
     "data": {
      "text/html": [
       "<div>\n",
       "<style scoped>\n",
       "    .dataframe tbody tr th:only-of-type {\n",
       "        vertical-align: middle;\n",
       "    }\n",
       "\n",
       "    .dataframe tbody tr th {\n",
       "        vertical-align: top;\n",
       "    }\n",
       "\n",
       "    .dataframe thead th {\n",
       "        text-align: right;\n",
       "    }\n",
       "</style>\n",
       "<table border=\"1\" class=\"dataframe\">\n",
       "  <thead>\n",
       "    <tr style=\"text-align: right;\">\n",
       "      <th></th>\n",
       "      <th>actual</th>\n",
       "      <th>model1</th>\n",
       "      <th>model2</th>\n",
       "      <th>model3</th>\n",
       "      <th>model4</th>\n",
       "      <th>base</th>\n",
       "      <th>cat_base</th>\n",
       "    </tr>\n",
       "  </thead>\n",
       "  <tbody>\n",
       "    <tr>\n",
       "      <th>0</th>\n",
       "      <td>cat</td>\n",
       "      <td>cat</td>\n",
       "      <td>dog</td>\n",
       "      <td>cat</td>\n",
       "      <td>dog</td>\n",
       "      <td>dog</td>\n",
       "      <td>cat</td>\n",
       "    </tr>\n",
       "    <tr>\n",
       "      <th>1</th>\n",
       "      <td>dog</td>\n",
       "      <td>dog</td>\n",
       "      <td>cat</td>\n",
       "      <td>cat</td>\n",
       "      <td>dog</td>\n",
       "      <td>dog</td>\n",
       "      <td>cat</td>\n",
       "    </tr>\n",
       "    <tr>\n",
       "      <th>2</th>\n",
       "      <td>dog</td>\n",
       "      <td>cat</td>\n",
       "      <td>cat</td>\n",
       "      <td>cat</td>\n",
       "      <td>dog</td>\n",
       "      <td>dog</td>\n",
       "      <td>cat</td>\n",
       "    </tr>\n",
       "    <tr>\n",
       "      <th>3</th>\n",
       "      <td>dog</td>\n",
       "      <td>dog</td>\n",
       "      <td>dog</td>\n",
       "      <td>cat</td>\n",
       "      <td>dog</td>\n",
       "      <td>dog</td>\n",
       "      <td>cat</td>\n",
       "    </tr>\n",
       "    <tr>\n",
       "      <th>4</th>\n",
       "      <td>cat</td>\n",
       "      <td>cat</td>\n",
       "      <td>cat</td>\n",
       "      <td>dog</td>\n",
       "      <td>dog</td>\n",
       "      <td>dog</td>\n",
       "      <td>cat</td>\n",
       "    </tr>\n",
       "    <tr>\n",
       "      <th>...</th>\n",
       "      <td>...</td>\n",
       "      <td>...</td>\n",
       "      <td>...</td>\n",
       "      <td>...</td>\n",
       "      <td>...</td>\n",
       "      <td>...</td>\n",
       "      <td>...</td>\n",
       "    </tr>\n",
       "    <tr>\n",
       "      <th>4995</th>\n",
       "      <td>dog</td>\n",
       "      <td>dog</td>\n",
       "      <td>dog</td>\n",
       "      <td>dog</td>\n",
       "      <td>dog</td>\n",
       "      <td>dog</td>\n",
       "      <td>cat</td>\n",
       "    </tr>\n",
       "    <tr>\n",
       "      <th>4996</th>\n",
       "      <td>dog</td>\n",
       "      <td>dog</td>\n",
       "      <td>cat</td>\n",
       "      <td>cat</td>\n",
       "      <td>dog</td>\n",
       "      <td>dog</td>\n",
       "      <td>cat</td>\n",
       "    </tr>\n",
       "    <tr>\n",
       "      <th>4997</th>\n",
       "      <td>dog</td>\n",
       "      <td>cat</td>\n",
       "      <td>cat</td>\n",
       "      <td>dog</td>\n",
       "      <td>dog</td>\n",
       "      <td>dog</td>\n",
       "      <td>cat</td>\n",
       "    </tr>\n",
       "    <tr>\n",
       "      <th>4998</th>\n",
       "      <td>cat</td>\n",
       "      <td>cat</td>\n",
       "      <td>cat</td>\n",
       "      <td>cat</td>\n",
       "      <td>dog</td>\n",
       "      <td>dog</td>\n",
       "      <td>cat</td>\n",
       "    </tr>\n",
       "    <tr>\n",
       "      <th>4999</th>\n",
       "      <td>dog</td>\n",
       "      <td>dog</td>\n",
       "      <td>dog</td>\n",
       "      <td>dog</td>\n",
       "      <td>dog</td>\n",
       "      <td>dog</td>\n",
       "      <td>cat</td>\n",
       "    </tr>\n",
       "  </tbody>\n",
       "</table>\n",
       "<p>5000 rows × 7 columns</p>\n",
       "</div>"
      ],
      "text/plain": [
       "     actual model1 model2 model3 model4 base cat_base\n",
       "0       cat    cat    dog    cat    dog  dog      cat\n",
       "1       dog    dog    cat    cat    dog  dog      cat\n",
       "2       dog    cat    cat    cat    dog  dog      cat\n",
       "3       dog    dog    dog    cat    dog  dog      cat\n",
       "4       cat    cat    cat    dog    dog  dog      cat\n",
       "...     ...    ...    ...    ...    ...  ...      ...\n",
       "4995    dog    dog    dog    dog    dog  dog      cat\n",
       "4996    dog    dog    cat    cat    dog  dog      cat\n",
       "4997    dog    cat    cat    dog    dog  dog      cat\n",
       "4998    cat    cat    cat    cat    dog  dog      cat\n",
       "4999    dog    dog    dog    dog    dog  dog      cat\n",
       "\n",
       "[5000 rows x 7 columns]"
      ]
     },
     "execution_count": 136,
     "metadata": {},
     "output_type": "execute_result"
    }
   ],
   "source": [
    "new_df.actual.value_counts()\n",
    "new_df"
   ]
  },
  {
   "cell_type": "code",
   "execution_count": 98,
   "id": "91ca4b49",
   "metadata": {},
   "outputs": [],
   "source": [
    "new_df['base'] = 'dog'"
   ]
  },
  {
   "cell_type": "code",
   "execution_count": 133,
   "id": "8927acd0",
   "metadata": {},
   "outputs": [],
   "source": [
    "new_df['cat_base'] = 'cat'"
   ]
  },
  {
   "cell_type": "code",
   "execution_count": 105,
   "id": "b6a360a0",
   "metadata": {},
   "outputs": [
    {
     "name": "stdout",
     "output_type": "stream",
     "text": [
      "Model 1 accuracy =  0.81\n",
      "Model 2 accuracy =  0.63\n",
      "Model 3 accuracy =  0.51\n",
      "Model 4 accuracy =  0.74\n",
      "Baseline accuracy =  0.65\n"
     ]
    }
   ],
   "source": [
    "print(\"Model 1 accuracy = \", round(sklearn.metrics.accuracy_score(new_df.actual, \n",
    "                                                                  new_df.model1, \n",
    "                                                                  normalize = True, \n",
    "                                                                  sample_weight = None), 2))\n",
    "print(\"Model 2 accuracy = \", round(sklearn.metrics.accuracy_score(new_df.actual, \n",
    "                                                                  new_df.model2, \n",
    "                                                                  normalize = True, \n",
    "                                                                  sample_weight = None), 2))\n",
    "print(\"Model 3 accuracy = \", round(sklearn.metrics.accuracy_score(new_df.actual, \n",
    "                                                                  new_df.model3, \n",
    "                                                                  normalize = True, \n",
    "                                                                  sample_weight = None), 2))\n",
    "print(\"Model 4 accuracy = \", round(sklearn.metrics.accuracy_score(new_df.actual, \n",
    "                                                                  new_df.model4, \n",
    "                                                                  normalize = True, \n",
    "                                                                  sample_weight = None), 2))\n",
    "print(\"Baseline accuracy = \", round(sklearn.metrics.accuracy_score(new_df.actual, \n",
    "                                                                  new_df.base, \n",
    "                                                                  normalize = True, \n",
    "                                                                  sample_weight = None), 2))"
   ]
  },
  {
   "cell_type": "code",
   "execution_count": 127,
   "id": "08d2177e",
   "metadata": {},
   "outputs": [
    {
     "name": "stdout",
     "output_type": "stream",
     "text": [
      "Cat Baseline accuracy =  0.35\n"
     ]
    }
   ],
   "source": [
    "print(\"Cat Baseline accuracy = \", round(sklearn.metrics.accuracy_score(new_df.actual, \n",
    "                                                                  new_df.cat_base, \n",
    "                                                                  normalize = True, \n",
    "                                                                  sample_weight = None), 2))"
   ]
  },
  {
   "cell_type": "code",
   "execution_count": 120,
   "id": "4e5a3086",
   "metadata": {},
   "outputs": [
    {
     "name": "stdout",
     "output_type": "stream",
     "text": [
      "Model 1 precision =  0.89\n",
      "Model 2 precision =  0.893\n",
      "Model 3 precision =  0.66\n",
      "Model 4 precision =  0.731\n"
     ]
    }
   ],
   "source": [
    "print(\"Model 1 precision = \", round((sklearn.metrics.precision_score(new_df.actual, new_df.model1, \n",
    "                                                                    labels=None, pos_label='dog', \n",
    "                                                                    average='binary', sample_weight=None, \n",
    "                                                                    zero_division='warn')), 3))\n",
    "print(\"Model 2 precision = \", round((sklearn.metrics.precision_score(new_df.actual, new_df.model2, \n",
    "                                                                    labels=None, pos_label='dog', \n",
    "                                                                    average='binary', sample_weight=None, \n",
    "                                                                    zero_division='warn')), 3))\n",
    "print(\"Model 3 precision = \", round((sklearn.metrics.precision_score(new_df.actual, new_df.model3, \n",
    "                                                                    labels=None, pos_label='dog', \n",
    "                                                                    average='binary', sample_weight=None, \n",
    "                                                                    zero_division='warn')), 3))\n",
    "print(\"Model 4 precision = \", round((sklearn.metrics.precision_score(new_df.actual, new_df.model4, \n",
    "                                                                    labels=None, pos_label='dog', \n",
    "                                                                    average='binary', sample_weight=None, \n",
    "                                                                    zero_division='warn')), 3))\n"
   ]
  },
  {
   "cell_type": "code",
   "execution_count": 135,
   "id": "b0502ac6",
   "metadata": {},
   "outputs": [
    {
     "name": "stdout",
     "output_type": "stream",
     "text": [
      "Model 1 precision =  0.69\n",
      "Model 2 precision =  0.484\n",
      "Model 3 precision =  0.358\n",
      "Model 4 precision =  0.807\n"
     ]
    }
   ],
   "source": [
    "print(\"Model 1 precision = \", round((sklearn.metrics.precision_score(new_df.actual, new_df.model1, \n",
    "                                                                    labels=None, pos_label='cat', \n",
    "                                                                    average='binary', sample_weight=None, \n",
    "                                                                    zero_division='warn')), 3))\n",
    "print(\"Model 2 precision = \", round((sklearn.metrics.precision_score(new_df.actual, new_df.model2, \n",
    "                                                                    labels=None, pos_label='cat', \n",
    "                                                                    average='binary', sample_weight=None, \n",
    "                                                                    zero_division='warn')), 3))\n",
    "print(\"Model 3 precision = \", round((sklearn.metrics.precision_score(new_df.actual, new_df.model3, \n",
    "                                                                    labels=None, pos_label='cat', \n",
    "                                                                    average='binary', sample_weight=None, \n",
    "                                                                    zero_division='warn')), 3))\n",
    "print(\"Model 4 precision = \", round((sklearn.metrics.precision_score(new_df.actual, new_df.model4, \n",
    "                                                                    labels=None, pos_label='cat', \n",
    "                                                                    average='binary', sample_weight=None, \n",
    "                                                                    zero_division='warn')), 3))"
   ]
  },
  {
   "cell_type": "code",
   "execution_count": 119,
   "id": "6ab8575f",
   "metadata": {},
   "outputs": [
    {
     "name": "stdout",
     "output_type": "stream",
     "text": [
      "Model 1 recall perc =  0.803\n",
      "Model 2 recall perc =  0.491\n",
      "Model 3 recall perc =  0.509\n",
      "Model 4 recall perc =  0.956\n"
     ]
    }
   ],
   "source": [
    "print(\"Model 1 recall perc = \", round((sklearn.metrics.recall_score(new_df.actual, new_df.model1, labels=None, pos_label='dog', \n",
    "                             average='binary', sample_weight=None, zero_division='warn')), 3))\n",
    "print(\"Model 2 recall perc = \", round((sklearn.metrics.recall_score(new_df.actual, new_df.model2, labels=None, pos_label='dog', \n",
    "                             average='binary', sample_weight=None, zero_division='warn')), 3))\n",
    "print(\"Model 3 recall perc = \", round((sklearn.metrics.recall_score(new_df.actual, new_df.model3, labels=None, pos_label='dog', \n",
    "                             average='binary', sample_weight=None, zero_division='warn')), 3))\n",
    "print(\"Model 4 recall perc = \", round((sklearn.metrics.recall_score(new_df.actual, new_df.model4, labels=None, pos_label='dog', \n",
    "                             average='binary', sample_weight=None, zero_division='warn')), 3))\n",
    "\n",
    "\n"
   ]
  },
  {
   "cell_type": "code",
   "execution_count": 122,
   "id": "36a575de",
   "metadata": {},
   "outputs": [
    {
     "name": "stdout",
     "output_type": "stream",
     "text": [
      "              precision    recall  f1-score   support\n",
      "\n",
      "         cat       0.69      0.82      0.75      1746\n",
      "         dog       0.89      0.80      0.84      3254\n",
      "\n",
      "    accuracy                           0.81      5000\n",
      "   macro avg       0.79      0.81      0.80      5000\n",
      "weighted avg       0.82      0.81      0.81      5000\n",
      "\n"
     ]
    }
   ],
   "source": [
    "print(sklearn.metrics.classification_report(new_df.actual, new_df.model1, labels=None, \n",
    "                                      target_names=None, sample_weight=None, digits=2, \n",
    "                                      output_dict=False, zero_division='warn'))"
   ]
  },
  {
   "cell_type": "code",
   "execution_count": 123,
   "id": "7286bda3",
   "metadata": {},
   "outputs": [
    {
     "name": "stdout",
     "output_type": "stream",
     "text": [
      "              precision    recall  f1-score   support\n",
      "\n",
      "         cat       0.48      0.89      0.63      1746\n",
      "         dog       0.89      0.49      0.63      3254\n",
      "\n",
      "    accuracy                           0.63      5000\n",
      "   macro avg       0.69      0.69      0.63      5000\n",
      "weighted avg       0.75      0.63      0.63      5000\n",
      "\n"
     ]
    }
   ],
   "source": [
    "print(sklearn.metrics.classification_report(new_df.actual, new_df.model2, labels=None, \n",
    "                                      target_names=None, sample_weight=None, digits=2, \n",
    "                                      output_dict=False, zero_division='warn'))"
   ]
  },
  {
   "cell_type": "code",
   "execution_count": 124,
   "id": "dee1e055",
   "metadata": {},
   "outputs": [
    {
     "name": "stdout",
     "output_type": "stream",
     "text": [
      "              precision    recall  f1-score   support\n",
      "\n",
      "         cat       0.36      0.51      0.42      1746\n",
      "         dog       0.66      0.51      0.57      3254\n",
      "\n",
      "    accuracy                           0.51      5000\n",
      "   macro avg       0.51      0.51      0.50      5000\n",
      "weighted avg       0.55      0.51      0.52      5000\n",
      "\n"
     ]
    }
   ],
   "source": [
    "print(sklearn.metrics.classification_report(new_df.actual, new_df.model3, labels=None, \n",
    "                                      target_names=None, sample_weight=None, digits=2, \n",
    "                                      output_dict=False, zero_division='warn'))"
   ]
  },
  {
   "cell_type": "code",
   "execution_count": 125,
   "id": "392b22cf",
   "metadata": {},
   "outputs": [
    {
     "name": "stdout",
     "output_type": "stream",
     "text": [
      "              precision    recall  f1-score   support\n",
      "\n",
      "         cat       0.81      0.35      0.48      1746\n",
      "         dog       0.73      0.96      0.83      3254\n",
      "\n",
      "    accuracy                           0.74      5000\n",
      "   macro avg       0.77      0.65      0.66      5000\n",
      "weighted avg       0.76      0.74      0.71      5000\n",
      "\n"
     ]
    }
   ],
   "source": [
    "print(sklearn.metrics.classification_report(new_df.actual, new_df.model4, labels=None, \n",
    "                                      target_names=None, sample_weight=None, digits=2, \n",
    "                                      output_dict=False, zero_division='warn'))"
   ]
  },
  {
   "cell_type": "code",
   "execution_count": null,
   "id": "b51aa177",
   "metadata": {},
   "outputs": [],
   "source": []
  }
 ],
 "metadata": {
  "kernelspec": {
   "display_name": "Python 3 (ipykernel)",
   "language": "python",
   "name": "python3"
  },
  "language_info": {
   "codemirror_mode": {
    "name": "ipython",
    "version": 3
   },
   "file_extension": ".py",
   "mimetype": "text/x-python",
   "name": "python",
   "nbconvert_exporter": "python",
   "pygments_lexer": "ipython3",
   "version": "3.9.13"
  }
 },
 "nbformat": 4,
 "nbformat_minor": 5
}
