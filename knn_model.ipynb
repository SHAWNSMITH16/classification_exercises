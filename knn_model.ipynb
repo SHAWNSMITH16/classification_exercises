{
 "cells": [
  {
   "cell_type": "markdown",
   "id": "5aae0bee",
   "metadata": {},
   "source": [
    "-Importing everything I might need\n"
   ]
  },
  {
   "cell_type": "code",
   "execution_count": 5,
   "id": "3e8a9747",
   "metadata": {},
   "outputs": [],
   "source": [
    "# ignore warnings\n",
    "import warnings\n",
    "warnings.filterwarnings(\"ignore\")\n",
    "\n",
    "import pandas as pd\n",
    "import numpy as np\n",
    "\n",
    "%matplotlib inline\n",
    "import matplotlib.pyplot as plt\n",
    "import seaborn as sns\n",
    "\n",
    "from sklearn.model_selection import train_test_split\n",
    "from sklearn.neighbors import KNeighborsClassifier\n",
    "from sklearn.metrics import classification_report\n",
    "from sklearn.metrics import confusion_matrix\n",
    "\n",
    "from pydataset import data\n",
    "\n",
    "import acquire\n",
    "import prepare\n"
   ]
  },
  {
   "cell_type": "markdown",
   "id": "cd63bcfb",
   "metadata": {},
   "source": [
    "- Acquiring the dataset"
   ]
  },
  {
   "cell_type": "code",
   "execution_count": 6,
   "id": "87540cf8",
   "metadata": {},
   "outputs": [],
   "source": [
    "df = acquire.get_titanic_data()"
   ]
  },
  {
   "cell_type": "markdown",
   "id": "60f54fdf",
   "metadata": {},
   "source": [
    "- Checking to see if the acquire was successful"
   ]
  },
  {
   "cell_type": "code",
   "execution_count": 7,
   "id": "10c0f58c",
   "metadata": {},
   "outputs": [
    {
     "data": {
      "text/html": [
       "<div>\n",
       "<style scoped>\n",
       "    .dataframe tbody tr th:only-of-type {\n",
       "        vertical-align: middle;\n",
       "    }\n",
       "\n",
       "    .dataframe tbody tr th {\n",
       "        vertical-align: top;\n",
       "    }\n",
       "\n",
       "    .dataframe thead th {\n",
       "        text-align: right;\n",
       "    }\n",
       "</style>\n",
       "<table border=\"1\" class=\"dataframe\">\n",
       "  <thead>\n",
       "    <tr style=\"text-align: right;\">\n",
       "      <th></th>\n",
       "      <th>Unnamed: 0</th>\n",
       "      <th>passenger_id</th>\n",
       "      <th>survived</th>\n",
       "      <th>pclass</th>\n",
       "      <th>sex</th>\n",
       "      <th>age</th>\n",
       "      <th>sibsp</th>\n",
       "      <th>parch</th>\n",
       "      <th>fare</th>\n",
       "      <th>embarked</th>\n",
       "      <th>class</th>\n",
       "      <th>deck</th>\n",
       "      <th>embark_town</th>\n",
       "      <th>alone</th>\n",
       "    </tr>\n",
       "  </thead>\n",
       "  <tbody>\n",
       "    <tr>\n",
       "      <th>0</th>\n",
       "      <td>0</td>\n",
       "      <td>0</td>\n",
       "      <td>0</td>\n",
       "      <td>3</td>\n",
       "      <td>male</td>\n",
       "      <td>22.0</td>\n",
       "      <td>1</td>\n",
       "      <td>0</td>\n",
       "      <td>7.2500</td>\n",
       "      <td>S</td>\n",
       "      <td>Third</td>\n",
       "      <td>NaN</td>\n",
       "      <td>Southampton</td>\n",
       "      <td>0</td>\n",
       "    </tr>\n",
       "    <tr>\n",
       "      <th>1</th>\n",
       "      <td>1</td>\n",
       "      <td>1</td>\n",
       "      <td>1</td>\n",
       "      <td>1</td>\n",
       "      <td>female</td>\n",
       "      <td>38.0</td>\n",
       "      <td>1</td>\n",
       "      <td>0</td>\n",
       "      <td>71.2833</td>\n",
       "      <td>C</td>\n",
       "      <td>First</td>\n",
       "      <td>C</td>\n",
       "      <td>Cherbourg</td>\n",
       "      <td>0</td>\n",
       "    </tr>\n",
       "    <tr>\n",
       "      <th>2</th>\n",
       "      <td>2</td>\n",
       "      <td>2</td>\n",
       "      <td>1</td>\n",
       "      <td>3</td>\n",
       "      <td>female</td>\n",
       "      <td>26.0</td>\n",
       "      <td>0</td>\n",
       "      <td>0</td>\n",
       "      <td>7.9250</td>\n",
       "      <td>S</td>\n",
       "      <td>Third</td>\n",
       "      <td>NaN</td>\n",
       "      <td>Southampton</td>\n",
       "      <td>1</td>\n",
       "    </tr>\n",
       "    <tr>\n",
       "      <th>3</th>\n",
       "      <td>3</td>\n",
       "      <td>3</td>\n",
       "      <td>1</td>\n",
       "      <td>1</td>\n",
       "      <td>female</td>\n",
       "      <td>35.0</td>\n",
       "      <td>1</td>\n",
       "      <td>0</td>\n",
       "      <td>53.1000</td>\n",
       "      <td>S</td>\n",
       "      <td>First</td>\n",
       "      <td>C</td>\n",
       "      <td>Southampton</td>\n",
       "      <td>0</td>\n",
       "    </tr>\n",
       "    <tr>\n",
       "      <th>4</th>\n",
       "      <td>4</td>\n",
       "      <td>4</td>\n",
       "      <td>0</td>\n",
       "      <td>3</td>\n",
       "      <td>male</td>\n",
       "      <td>35.0</td>\n",
       "      <td>0</td>\n",
       "      <td>0</td>\n",
       "      <td>8.0500</td>\n",
       "      <td>S</td>\n",
       "      <td>Third</td>\n",
       "      <td>NaN</td>\n",
       "      <td>Southampton</td>\n",
       "      <td>1</td>\n",
       "    </tr>\n",
       "  </tbody>\n",
       "</table>\n",
       "</div>"
      ],
      "text/plain": [
       "   Unnamed: 0  passenger_id  survived  pclass     sex   age  sibsp  parch  \\\n",
       "0           0             0         0       3    male  22.0      1      0   \n",
       "1           1             1         1       1  female  38.0      1      0   \n",
       "2           2             2         1       3  female  26.0      0      0   \n",
       "3           3             3         1       1  female  35.0      1      0   \n",
       "4           4             4         0       3    male  35.0      0      0   \n",
       "\n",
       "      fare embarked  class deck  embark_town  alone  \n",
       "0   7.2500        S  Third  NaN  Southampton      0  \n",
       "1  71.2833        C  First    C    Cherbourg      0  \n",
       "2   7.9250        S  Third  NaN  Southampton      1  \n",
       "3  53.1000        S  First    C  Southampton      0  \n",
       "4   8.0500        S  Third  NaN  Southampton      1  "
      ]
     },
     "execution_count": 7,
     "metadata": {},
     "output_type": "execute_result"
    }
   ],
   "source": [
    "df.head()"
   ]
  },
  {
   "cell_type": "markdown",
   "id": "5b59b604",
   "metadata": {},
   "source": [
    "- Making my function to do an initial 'cleanse' of the data"
   ]
  },
  {
   "cell_type": "code",
   "execution_count": 8,
   "id": "9c775a8e",
   "metadata": {},
   "outputs": [],
   "source": [
    "def prep_titanic(df):\n",
    "    '''This function takes in the titanic df specifically and drops the \n",
    "    listed columns and creates dummy variables for the selected columns'''\n",
    "    \n",
    "    drop_cols = ['Unnamed: 0', 'passenger_id', 'embarked', 'class', 'deck']\n",
    "    \n",
    "    df.drop(columns = drop_cols, inplace = True)\n",
    "    \n",
    "    dummies = pd.get_dummies(df[['sex', 'embark_town']], drop_first = True)\n",
    "\n",
    "    df = pd.concat([df, dummies], axis = 1)\n",
    "    \n",
    "    df.drop(columns = ['sex', 'embark_town'], inplace = True)\n",
    "    \n",
    "    df.rename(columns = {'embark_town_Queenstown': 'embark_Q', 'embark_town_Southampton': 'embark_S'}, inplace = True)\n",
    "    \n",
    "    return df\n"
   ]
  },
  {
   "cell_type": "markdown",
   "id": "120a443a",
   "metadata": {},
   "source": [
    "- Running my dataframe through my cleanse function by calling it"
   ]
  },
  {
   "cell_type": "code",
   "execution_count": 9,
   "id": "4d73e24d",
   "metadata": {},
   "outputs": [],
   "source": [
    "df = prep_titanic(df)"
   ]
  },
  {
   "cell_type": "markdown",
   "id": "b654243f",
   "metadata": {},
   "source": [
    "- Checking to see if my data 'cleanse' is what I wanted"
   ]
  },
  {
   "cell_type": "code",
   "execution_count": 10,
   "id": "dffe7901",
   "metadata": {},
   "outputs": [
    {
     "data": {
      "text/html": [
       "<div>\n",
       "<style scoped>\n",
       "    .dataframe tbody tr th:only-of-type {\n",
       "        vertical-align: middle;\n",
       "    }\n",
       "\n",
       "    .dataframe tbody tr th {\n",
       "        vertical-align: top;\n",
       "    }\n",
       "\n",
       "    .dataframe thead th {\n",
       "        text-align: right;\n",
       "    }\n",
       "</style>\n",
       "<table border=\"1\" class=\"dataframe\">\n",
       "  <thead>\n",
       "    <tr style=\"text-align: right;\">\n",
       "      <th></th>\n",
       "      <th>survived</th>\n",
       "      <th>pclass</th>\n",
       "      <th>age</th>\n",
       "      <th>sibsp</th>\n",
       "      <th>parch</th>\n",
       "      <th>fare</th>\n",
       "      <th>alone</th>\n",
       "      <th>sex_male</th>\n",
       "      <th>embark_Q</th>\n",
       "      <th>embark_S</th>\n",
       "    </tr>\n",
       "  </thead>\n",
       "  <tbody>\n",
       "    <tr>\n",
       "      <th>0</th>\n",
       "      <td>0</td>\n",
       "      <td>3</td>\n",
       "      <td>22.0</td>\n",
       "      <td>1</td>\n",
       "      <td>0</td>\n",
       "      <td>7.2500</td>\n",
       "      <td>0</td>\n",
       "      <td>1</td>\n",
       "      <td>0</td>\n",
       "      <td>1</td>\n",
       "    </tr>\n",
       "    <tr>\n",
       "      <th>1</th>\n",
       "      <td>1</td>\n",
       "      <td>1</td>\n",
       "      <td>38.0</td>\n",
       "      <td>1</td>\n",
       "      <td>0</td>\n",
       "      <td>71.2833</td>\n",
       "      <td>0</td>\n",
       "      <td>0</td>\n",
       "      <td>0</td>\n",
       "      <td>0</td>\n",
       "    </tr>\n",
       "    <tr>\n",
       "      <th>2</th>\n",
       "      <td>1</td>\n",
       "      <td>3</td>\n",
       "      <td>26.0</td>\n",
       "      <td>0</td>\n",
       "      <td>0</td>\n",
       "      <td>7.9250</td>\n",
       "      <td>1</td>\n",
       "      <td>0</td>\n",
       "      <td>0</td>\n",
       "      <td>1</td>\n",
       "    </tr>\n",
       "    <tr>\n",
       "      <th>3</th>\n",
       "      <td>1</td>\n",
       "      <td>1</td>\n",
       "      <td>35.0</td>\n",
       "      <td>1</td>\n",
       "      <td>0</td>\n",
       "      <td>53.1000</td>\n",
       "      <td>0</td>\n",
       "      <td>0</td>\n",
       "      <td>0</td>\n",
       "      <td>1</td>\n",
       "    </tr>\n",
       "    <tr>\n",
       "      <th>4</th>\n",
       "      <td>0</td>\n",
       "      <td>3</td>\n",
       "      <td>35.0</td>\n",
       "      <td>0</td>\n",
       "      <td>0</td>\n",
       "      <td>8.0500</td>\n",
       "      <td>1</td>\n",
       "      <td>1</td>\n",
       "      <td>0</td>\n",
       "      <td>1</td>\n",
       "    </tr>\n",
       "  </tbody>\n",
       "</table>\n",
       "</div>"
      ],
      "text/plain": [
       "   survived  pclass   age  sibsp  parch     fare  alone  sex_male  embark_Q  \\\n",
       "0         0       3  22.0      1      0   7.2500      0         1         0   \n",
       "1         1       1  38.0      1      0  71.2833      0         0         0   \n",
       "2         1       3  26.0      0      0   7.9250      1         0         0   \n",
       "3         1       1  35.0      1      0  53.1000      0         0         0   \n",
       "4         0       3  35.0      0      0   8.0500      1         1         0   \n",
       "\n",
       "   embark_S  \n",
       "0         1  \n",
       "1         0  \n",
       "2         1  \n",
       "3         1  \n",
       "4         1  "
      ]
     },
     "execution_count": 10,
     "metadata": {},
     "output_type": "execute_result"
    }
   ],
   "source": [
    "df.head()"
   ]
  },
  {
   "cell_type": "markdown",
   "id": "7774465e",
   "metadata": {},
   "source": [
    "- Dropping some additional columns that I don't believe are useful at this point"
   ]
  },
  {
   "cell_type": "code",
   "execution_count": 12,
   "id": "ada90aeb",
   "metadata": {},
   "outputs": [],
   "source": [
    "df.drop(columns = ['fare', 'embark_Q', 'embark_S'], inplace = True)"
   ]
  },
  {
   "cell_type": "markdown",
   "id": "8327590d",
   "metadata": {},
   "source": [
    "- Dropping the age column as I found out it has too many nulls, I did not impute them because there were too many"
   ]
  },
  {
   "cell_type": "code",
   "execution_count": null,
   "id": "bdf97675",
   "metadata": {},
   "outputs": [],
   "source": [
    "df.drop(columns = 'age', inplace = True)"
   ]
  },
  {
   "cell_type": "markdown",
   "id": "2dc2dce0",
   "metadata": {},
   "source": [
    "- Creating a function here that will split my data"
   ]
  },
  {
   "cell_type": "code",
   "execution_count": 22,
   "id": "886074bb",
   "metadata": {},
   "outputs": [],
   "source": [
    "def train_validate_test_split(df, target, seed=123):\n",
    "    '''\n",
    "    This function takes in a dataframe, the name of the target variable\n",
    "    (for stratification purposes), and an integer for a setting a seed\n",
    "    and splits the data into train, validate and test. \n",
    "    Test is 20% of the original dataset, validate is .30*.80= 24% of the \n",
    "    original dataset, and train is .70*.80= 56% of the original dataset. \n",
    "    The function returns, in this order, train, validate and test dataframes. \n",
    "    '''\n",
    "    train_validate, test = train_test_split(df, test_size=0.2, \n",
    "                                            random_state=seed, \n",
    "                                            stratify=df[target])\n",
    "    train, validate = train_test_split(train_validate, test_size=0.3, \n",
    "                                       random_state=seed,\n",
    "                                       stratify=train_validate[target])\n",
    "    return train, validate, test"
   ]
  },
  {
   "cell_type": "markdown",
   "id": "11b94fba",
   "metadata": {},
   "source": [
    "- Calling the function here to split my data"
   ]
  },
  {
   "cell_type": "code",
   "execution_count": 23,
   "id": "07cb49ab",
   "metadata": {},
   "outputs": [],
   "source": [
    "# split into train, validate, test\n",
    "train, validate, test = train_validate_test_split(df, target='survived', seed=123)\n",
    "\n",
    "# create X & y version of train, where y is a series with just the target variable and X are all the features. \n",
    "\n",
    "X_train = train.drop(columns=['survived'])\n",
    "y_train = train.survived\n",
    "\n",
    "X_validate = validate.drop(columns=['survived'])\n",
    "y_validate = validate.survived\n",
    "\n",
    "X_test = test.drop(columns=['survived'])\n",
    "y_test = test.survived"
   ]
  },
  {
   "cell_type": "markdown",
   "id": "b01552de",
   "metadata": {},
   "source": [
    "- Creating the knn variable to assign how may neighbors will be calculated to determine the value of the introduced object"
   ]
  },
  {
   "cell_type": "code",
   "execution_count": 54,
   "id": "994d16ea",
   "metadata": {},
   "outputs": [],
   "source": [
    "knn = KNeighborsClassifier(n_neighbors = 20, weights='uniform')"
   ]
  },
  {
   "cell_type": "markdown",
   "id": "42362049",
   "metadata": {},
   "source": [
    "- Fitting the knn variable to my model"
   ]
  },
  {
   "cell_type": "code",
   "execution_count": 55,
   "id": "1a3d17af",
   "metadata": {},
   "outputs": [
    {
     "data": {
      "text/html": [
       "<style>#sk-container-id-3 {color: black;background-color: white;}#sk-container-id-3 pre{padding: 0;}#sk-container-id-3 div.sk-toggleable {background-color: white;}#sk-container-id-3 label.sk-toggleable__label {cursor: pointer;display: block;width: 100%;margin-bottom: 0;padding: 0.3em;box-sizing: border-box;text-align: center;}#sk-container-id-3 label.sk-toggleable__label-arrow:before {content: \"▸\";float: left;margin-right: 0.25em;color: #696969;}#sk-container-id-3 label.sk-toggleable__label-arrow:hover:before {color: black;}#sk-container-id-3 div.sk-estimator:hover label.sk-toggleable__label-arrow:before {color: black;}#sk-container-id-3 div.sk-toggleable__content {max-height: 0;max-width: 0;overflow: hidden;text-align: left;background-color: #f0f8ff;}#sk-container-id-3 div.sk-toggleable__content pre {margin: 0.2em;color: black;border-radius: 0.25em;background-color: #f0f8ff;}#sk-container-id-3 input.sk-toggleable__control:checked~div.sk-toggleable__content {max-height: 200px;max-width: 100%;overflow: auto;}#sk-container-id-3 input.sk-toggleable__control:checked~label.sk-toggleable__label-arrow:before {content: \"▾\";}#sk-container-id-3 div.sk-estimator input.sk-toggleable__control:checked~label.sk-toggleable__label {background-color: #d4ebff;}#sk-container-id-3 div.sk-label input.sk-toggleable__control:checked~label.sk-toggleable__label {background-color: #d4ebff;}#sk-container-id-3 input.sk-hidden--visually {border: 0;clip: rect(1px 1px 1px 1px);clip: rect(1px, 1px, 1px, 1px);height: 1px;margin: -1px;overflow: hidden;padding: 0;position: absolute;width: 1px;}#sk-container-id-3 div.sk-estimator {font-family: monospace;background-color: #f0f8ff;border: 1px dotted black;border-radius: 0.25em;box-sizing: border-box;margin-bottom: 0.5em;}#sk-container-id-3 div.sk-estimator:hover {background-color: #d4ebff;}#sk-container-id-3 div.sk-parallel-item::after {content: \"\";width: 100%;border-bottom: 1px solid gray;flex-grow: 1;}#sk-container-id-3 div.sk-label:hover label.sk-toggleable__label {background-color: #d4ebff;}#sk-container-id-3 div.sk-serial::before {content: \"\";position: absolute;border-left: 1px solid gray;box-sizing: border-box;top: 0;bottom: 0;left: 50%;z-index: 0;}#sk-container-id-3 div.sk-serial {display: flex;flex-direction: column;align-items: center;background-color: white;padding-right: 0.2em;padding-left: 0.2em;position: relative;}#sk-container-id-3 div.sk-item {position: relative;z-index: 1;}#sk-container-id-3 div.sk-parallel {display: flex;align-items: stretch;justify-content: center;background-color: white;position: relative;}#sk-container-id-3 div.sk-item::before, #sk-container-id-3 div.sk-parallel-item::before {content: \"\";position: absolute;border-left: 1px solid gray;box-sizing: border-box;top: 0;bottom: 0;left: 50%;z-index: -1;}#sk-container-id-3 div.sk-parallel-item {display: flex;flex-direction: column;z-index: 1;position: relative;background-color: white;}#sk-container-id-3 div.sk-parallel-item:first-child::after {align-self: flex-end;width: 50%;}#sk-container-id-3 div.sk-parallel-item:last-child::after {align-self: flex-start;width: 50%;}#sk-container-id-3 div.sk-parallel-item:only-child::after {width: 0;}#sk-container-id-3 div.sk-dashed-wrapped {border: 1px dashed gray;margin: 0 0.4em 0.5em 0.4em;box-sizing: border-box;padding-bottom: 0.4em;background-color: white;}#sk-container-id-3 div.sk-label label {font-family: monospace;font-weight: bold;display: inline-block;line-height: 1.2em;}#sk-container-id-3 div.sk-label-container {text-align: center;}#sk-container-id-3 div.sk-container {/* jupyter's `normalize.less` sets `[hidden] { display: none; }` but bootstrap.min.css set `[hidden] { display: none !important; }` so we also need the `!important` here to be able to override the default hidden behavior on the sphinx rendered scikit-learn.org. See: https://github.com/scikit-learn/scikit-learn/issues/21755 */display: inline-block !important;position: relative;}#sk-container-id-3 div.sk-text-repr-fallback {display: none;}</style><div id=\"sk-container-id-3\" class=\"sk-top-container\"><div class=\"sk-text-repr-fallback\"><pre>KNeighborsClassifier(n_neighbors=20)</pre><b>In a Jupyter environment, please rerun this cell to show the HTML representation or trust the notebook. <br />On GitHub, the HTML representation is unable to render, please try loading this page with nbviewer.org.</b></div><div class=\"sk-container\" hidden><div class=\"sk-item\"><div class=\"sk-estimator sk-toggleable\"><input class=\"sk-toggleable__control sk-hidden--visually\" id=\"sk-estimator-id-3\" type=\"checkbox\" checked><label for=\"sk-estimator-id-3\" class=\"sk-toggleable__label sk-toggleable__label-arrow\">KNeighborsClassifier</label><div class=\"sk-toggleable__content\"><pre>KNeighborsClassifier(n_neighbors=20)</pre></div></div></div></div></div>"
      ],
      "text/plain": [
       "KNeighborsClassifier(n_neighbors=20)"
      ]
     },
     "execution_count": 55,
     "metadata": {},
     "output_type": "execute_result"
    }
   ],
   "source": [
    "knn.fit(X_train, y_train)"
   ]
  },
  {
   "cell_type": "markdown",
   "id": "26a5885e",
   "metadata": {},
   "source": [
    "- Calculating the score of my validate section of my data"
   ]
  },
  {
   "cell_type": "code",
   "execution_count": 56,
   "id": "f099a15e",
   "metadata": {},
   "outputs": [
    {
     "data": {
      "text/plain": [
       "0.7616822429906542"
      ]
     },
     "execution_count": 56,
     "metadata": {},
     "output_type": "execute_result"
    }
   ],
   "source": [
    "knn.score(X_validate, y_validate)"
   ]
  },
  {
   "cell_type": "markdown",
   "id": "06e958cd",
   "metadata": {},
   "source": [
    "- Creating the prediction variable that will be run through the algorithm"
   ]
  },
  {
   "cell_type": "code",
   "execution_count": 57,
   "id": "87cbcf41",
   "metadata": {},
   "outputs": [],
   "source": [
    "y_pred = knn.predict(X_train)"
   ]
  },
  {
   "cell_type": "markdown",
   "id": "206eb72f",
   "metadata": {},
   "source": [
    "- Creating the variable for the probability of the prediciton variable we just created"
   ]
  },
  {
   "cell_type": "code",
   "execution_count": 58,
   "id": "953a78e8",
   "metadata": {},
   "outputs": [],
   "source": [
    "y_pred_proba = knn.predict_proba(X_train)"
   ]
  },
  {
   "cell_type": "markdown",
   "id": "2d95deea",
   "metadata": {},
   "source": [
    "- Calling the accuracy score of the train portion of the dataset"
   ]
  },
  {
   "cell_type": "code",
   "execution_count": 59,
   "id": "e62d9016",
   "metadata": {},
   "outputs": [
    {
     "name": "stdout",
     "output_type": "stream",
     "text": [
      "Accuracy of KNN classifier on training set: 0.80\n"
     ]
    }
   ],
   "source": [
    "print('Accuracy of KNN classifier on training set: {:.2f}'\n",
    "     .format(knn.score(X_train, y_train)))"
   ]
  },
  {
   "cell_type": "markdown",
   "id": "57006505",
   "metadata": {},
   "source": [
    "- Printing the confusion matrix that gives me my true and false positive and negative counts based on my predictions"
   ]
  },
  {
   "cell_type": "code",
   "execution_count": 60,
   "id": "752bc07a",
   "metadata": {},
   "outputs": [
    {
     "name": "stdout",
     "output_type": "stream",
     "text": [
      "[[264  43]\n",
      " [ 57 134]]\n"
     ]
    }
   ],
   "source": [
    "print(confusion_matrix(y_train, y_pred))"
   ]
  },
  {
   "cell_type": "markdown",
   "id": "240832b3",
   "metadata": {},
   "source": [
    "- Printing my classification report to see my results"
   ]
  },
  {
   "cell_type": "code",
   "execution_count": 61,
   "id": "f5671dad",
   "metadata": {},
   "outputs": [
    {
     "name": "stdout",
     "output_type": "stream",
     "text": [
      "              precision    recall  f1-score   support\n",
      "\n",
      "           0       0.82      0.86      0.84       307\n",
      "           1       0.76      0.70      0.73       191\n",
      "\n",
      "    accuracy                           0.80       498\n",
      "   macro avg       0.79      0.78      0.78       498\n",
      "weighted avg       0.80      0.80      0.80       498\n",
      "\n"
     ]
    }
   ],
   "source": [
    "print(classification_report(y_train, y_pred))"
   ]
  },
  {
   "cell_type": "markdown",
   "id": "4e645257",
   "metadata": {},
   "source": [
    "- Printing the accuracy score of the validate portion of the dataset"
   ]
  },
  {
   "cell_type": "code",
   "execution_count": 62,
   "id": "bd80e8bd",
   "metadata": {},
   "outputs": [
    {
     "name": "stdout",
     "output_type": "stream",
     "text": [
      "Accuracy of KNN classifier on test set: 0.76\n"
     ]
    }
   ],
   "source": [
    "print('Accuracy of KNN classifier on test set: {:.2f}'\n",
    "     .format(knn.score(X_validate, y_validate)))"
   ]
  },
  {
   "cell_type": "markdown",
   "id": "10fff59c",
   "metadata": {},
   "source": [
    "- Creating a visual of the model"
   ]
  },
  {
   "cell_type": "code",
   "execution_count": 63,
   "id": "f5c65275",
   "metadata": {},
   "outputs": [
    {
     "data": {
      "image/png": "[encoded data removed]",
      "text/plain": [
       "<Figure size 640x480 with 1 Axes>"
      ]
     },
     "metadata": {},
     "output_type": "display_data"
    }
   ],
   "source": [
    "import matplotlib.pyplot as plt\n",
    "k_range = range(1, 20)\n",
    "scores = []\n",
    "for k in k_range:\n",
    "    knn = KNeighborsClassifier(n_neighbors = k)\n",
    "    knn.fit(X_train, y_train)\n",
    "    scores.append(knn.score(X_test, y_test))\n",
    "plt.figure()\n",
    "plt.xlabel('k')\n",
    "plt.ylabel('accuracy')\n",
    "plt.scatter(k_range, scores)\n",
    "plt.xticks([0,5,10,15,20])\n",
    "plt.show()"
   ]
  },
  {
   "cell_type": "markdown",
   "id": "6f99c470",
   "metadata": {},
   "source": [
    "- Assigning the TP, FP, TN, FN variables for k5"
   ]
  },
  {
   "cell_type": "code",
   "execution_count": 49,
   "id": "ab694ce7",
   "metadata": {},
   "outputs": [],
   "source": [
    "tp_k5 = 270\n",
    "tn_k5 = 141\n",
    "fp_k5 = 37\n",
    "fn_k5 = 50"
   ]
  },
  {
   "cell_type": "markdown",
   "id": "b9f89e81",
   "metadata": {},
   "source": [
    "- Calculating and printing the rates for my confusion matrix"
   ]
  },
  {
   "cell_type": "code",
   "execution_count": 50,
   "id": "4248cd4f",
   "metadata": {},
   "outputs": [
    {
     "name": "stdout",
     "output_type": "stream",
     "text": [
      "True positive rate is: 0.84375\n",
      "True negative rate is: 0.7921348314606742\n",
      "False positive rate is: 0.20786516853932585\n",
      "False Negative rate is: 0.15625\n"
     ]
    }
   ],
   "source": [
    "print(\"True positive rate is:\", tp_k5 / (tp_k5 + fn_k5))\n",
    "print(\"True negative rate is:\", tn_k5 / (fp_k5 + tn_k5))\n",
    "print(\"False positive rate is:\", fp_k5/ (fp_k5 + tn_k5))\n",
    "print(\"False Negative rate is:\", fn_k5 / (fn_k5 + tp_k5))"
   ]
  },
  {
   "cell_type": "markdown",
   "id": "d45737d8",
   "metadata": {},
   "source": [
    "- Assigning the TP, FP, TN, FN variables for k10"
   ]
  },
  {
   "cell_type": "code",
   "execution_count": 52,
   "id": "29d7b6aa",
   "metadata": {},
   "outputs": [],
   "source": [
    "tp_k10 = 278\n",
    "tn_k10 = 127\n",
    "fp_k10 = 29\n",
    "fn_k10 = 64"
   ]
  },
  {
   "cell_type": "code",
   "execution_count": 53,
   "id": "bdb3e195",
   "metadata": {},
   "outputs": [
    {
     "name": "stdout",
     "output_type": "stream",
     "text": [
      "True positive rate is: 0.8128654970760234\n",
      "True negative rate is: 0.8141025641025641\n",
      "False positive rate is: 0.1858974358974359\n",
      "False Negative rate is: 0.1871345029239766\n"
     ]
    }
   ],
   "source": [
    "print(\"True positive rate is:\", tp_k10 / (tp_k10 + fn_k10))\n",
    "print(\"True negative rate is:\", tn_k10 / (fp_k10 + tn_k10))\n",
    "print(\"False positive rate is:\", fp_k10/ (fp_k10 + tn_k10))\n",
    "print(\"False Negative rate is:\", fn_k10 / (fn_k10 + tp_k10))"
   ]
  },
  {
   "cell_type": "code",
   "execution_count": 64,
   "id": "1d74d08a",
   "metadata": {},
   "outputs": [],
   "source": [
    "tp_k20 = 264\n",
    "tn_k20 = 134\n",
    "fp_k20 = 43\n",
    "fn_k20 = 57"
   ]
  },
  {
   "cell_type": "code",
   "execution_count": 65,
   "id": "a18330aa",
   "metadata": {},
   "outputs": [
    {
     "name": "stdout",
     "output_type": "stream",
     "text": [
      "True positive rate is: 0.7880597014925373\n",
      "True negative rate is: 0.8220858895705522\n",
      "False positive rate is: 0.26380368098159507\n",
      "False Negative rate is: 0.17378048780487804\n"
     ]
    }
   ],
   "source": [
    "print(\"True positive rate is:\", tp_k20 / (tp_k10 + fn_k20))\n",
    "print(\"True negative rate is:\", tn_k20 / (fp_k10 + tn_k20))\n",
    "print(\"False positive rate is:\", fp_k20 / (fp_k10 + tn_k20))\n",
    "print(\"False Negative rate is:\", fn_k20 / (fn_k10 + tp_k20))"
   ]
  },
  {
   "cell_type": "code",
   "execution_count": null,
   "id": "60479ebd",
   "metadata": {},
   "outputs": [],
   "source": []
  }
 ],
 "metadata": {
  "kernelspec": {
   "display_name": "Python 3 (ipykernel)",
   "language": "python",
   "name": "python3"
  },
  "language_info": {
   "codemirror_mode": {
    "name": "ipython",
    "version": 3
   },
   "file_extension": ".py",
   "mimetype": "text/x-python",
   "name": "python",
   "nbconvert_exporter": "python",
   "pygments_lexer": "ipython3",
   "version": "3.9.13"
  }
 },
 "nbformat": 4,
 "nbformat_minor": 5
}
