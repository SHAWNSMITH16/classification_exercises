{
 "cells": [
  {
   "cell_type": "code",
   "execution_count": 13,
   "id": "4546206c",
   "metadata": {},
   "outputs": [],
   "source": [
    "from env import get_connection\n",
    "import os\n",
    "import numpy as np\n",
    "import pandas as pd\n",
    "import matplotlib.pyplot as plt\n",
    "import seaborn as sns\n",
    "from sklearn.model_selection import train_test_split\n",
    "from sklearn.tree import DecisionTreeClassifier, plot_tree\n",
    "from sklearn.metrics import classification_report, confusion_matrix, plot_confusion_matrix\n",
    "from sklearn.ensemble import RandomForestClassifier\n",
    "\n",
    "# turn off pink boxes for demo\n",
    "import warnings\n",
    "warnings.filterwarnings(\"ignore\")\n",
    "\n",
    "# import our own acquire module\n",
    "import acquire\n",
    "#import my own prepare module\n",
    "import prepare"
   ]
  },
  {
   "cell_type": "markdown",
   "id": "c87683bd",
   "metadata": {},
   "source": [
    "1. Fit the Random Forest classifier to your training sample and transform (i.e. make predictions on the training sample) setting the random_state accordingly and setting min_samples_leaf = 1 and max_depth = 10.\n",
    "\n",
    "2. Evaluate your results using the model score, confusion matrix, and classification report.\n",
    "\n",
    "3. Print and clearly label the following: Accuracy, true positive rate, false positive rate, true negative rate, false negative rate, precision, recall, f1-score, and support.\n",
    "\n",
    "4. Run through steps increasing your min_samples_leaf and decreasing your max_depth.\n",
    "\n",
    "5. What are the differences in the evaluation metrics? Which performs better on your in-sample data? Why?"
   ]
  },
  {
   "cell_type": "code",
   "execution_count": 41,
   "id": "2c2377a4",
   "metadata": {},
   "outputs": [],
   "source": [
    "df = acquire.get_titanic_data()"
   ]
  },
  {
   "cell_type": "code",
   "execution_count": 42,
   "id": "f56f2b37",
   "metadata": {},
   "outputs": [
    {
     "data": {
      "text/html": [
       "<div>\n",
       "<style scoped>\n",
       "    .dataframe tbody tr th:only-of-type {\n",
       "        vertical-align: middle;\n",
       "    }\n",
       "\n",
       "    .dataframe tbody tr th {\n",
       "        vertical-align: top;\n",
       "    }\n",
       "\n",
       "    .dataframe thead th {\n",
       "        text-align: right;\n",
       "    }\n",
       "</style>\n",
       "<table border=\"1\" class=\"dataframe\">\n",
       "  <thead>\n",
       "    <tr style=\"text-align: right;\">\n",
       "      <th></th>\n",
       "      <th>Unnamed: 0</th>\n",
       "      <th>passenger_id</th>\n",
       "      <th>survived</th>\n",
       "      <th>pclass</th>\n",
       "      <th>sex</th>\n",
       "      <th>age</th>\n",
       "      <th>sibsp</th>\n",
       "      <th>parch</th>\n",
       "      <th>fare</th>\n",
       "      <th>embarked</th>\n",
       "      <th>class</th>\n",
       "      <th>deck</th>\n",
       "      <th>embark_town</th>\n",
       "      <th>alone</th>\n",
       "    </tr>\n",
       "  </thead>\n",
       "  <tbody>\n",
       "    <tr>\n",
       "      <th>0</th>\n",
       "      <td>0</td>\n",
       "      <td>0</td>\n",
       "      <td>0</td>\n",
       "      <td>3</td>\n",
       "      <td>male</td>\n",
       "      <td>22.0</td>\n",
       "      <td>1</td>\n",
       "      <td>0</td>\n",
       "      <td>7.2500</td>\n",
       "      <td>S</td>\n",
       "      <td>Third</td>\n",
       "      <td>NaN</td>\n",
       "      <td>Southampton</td>\n",
       "      <td>0</td>\n",
       "    </tr>\n",
       "    <tr>\n",
       "      <th>1</th>\n",
       "      <td>1</td>\n",
       "      <td>1</td>\n",
       "      <td>1</td>\n",
       "      <td>1</td>\n",
       "      <td>female</td>\n",
       "      <td>38.0</td>\n",
       "      <td>1</td>\n",
       "      <td>0</td>\n",
       "      <td>71.2833</td>\n",
       "      <td>C</td>\n",
       "      <td>First</td>\n",
       "      <td>C</td>\n",
       "      <td>Cherbourg</td>\n",
       "      <td>0</td>\n",
       "    </tr>\n",
       "    <tr>\n",
       "      <th>2</th>\n",
       "      <td>2</td>\n",
       "      <td>2</td>\n",
       "      <td>1</td>\n",
       "      <td>3</td>\n",
       "      <td>female</td>\n",
       "      <td>26.0</td>\n",
       "      <td>0</td>\n",
       "      <td>0</td>\n",
       "      <td>7.9250</td>\n",
       "      <td>S</td>\n",
       "      <td>Third</td>\n",
       "      <td>NaN</td>\n",
       "      <td>Southampton</td>\n",
       "      <td>1</td>\n",
       "    </tr>\n",
       "    <tr>\n",
       "      <th>3</th>\n",
       "      <td>3</td>\n",
       "      <td>3</td>\n",
       "      <td>1</td>\n",
       "      <td>1</td>\n",
       "      <td>female</td>\n",
       "      <td>35.0</td>\n",
       "      <td>1</td>\n",
       "      <td>0</td>\n",
       "      <td>53.1000</td>\n",
       "      <td>S</td>\n",
       "      <td>First</td>\n",
       "      <td>C</td>\n",
       "      <td>Southampton</td>\n",
       "      <td>0</td>\n",
       "    </tr>\n",
       "    <tr>\n",
       "      <th>4</th>\n",
       "      <td>4</td>\n",
       "      <td>4</td>\n",
       "      <td>0</td>\n",
       "      <td>3</td>\n",
       "      <td>male</td>\n",
       "      <td>35.0</td>\n",
       "      <td>0</td>\n",
       "      <td>0</td>\n",
       "      <td>8.0500</td>\n",
       "      <td>S</td>\n",
       "      <td>Third</td>\n",
       "      <td>NaN</td>\n",
       "      <td>Southampton</td>\n",
       "      <td>1</td>\n",
       "    </tr>\n",
       "  </tbody>\n",
       "</table>\n",
       "</div>"
      ],
      "text/plain": [
       "   Unnamed: 0  passenger_id  survived  pclass     sex   age  sibsp  parch  \\\n",
       "0           0             0         0       3    male  22.0      1      0   \n",
       "1           1             1         1       1  female  38.0      1      0   \n",
       "2           2             2         1       3  female  26.0      0      0   \n",
       "3           3             3         1       1  female  35.0      1      0   \n",
       "4           4             4         0       3    male  35.0      0      0   \n",
       "\n",
       "      fare embarked  class deck  embark_town  alone  \n",
       "0   7.2500        S  Third  NaN  Southampton      0  \n",
       "1  71.2833        C  First    C    Cherbourg      0  \n",
       "2   7.9250        S  Third  NaN  Southampton      1  \n",
       "3  53.1000        S  First    C  Southampton      0  \n",
       "4   8.0500        S  Third  NaN  Southampton      1  "
      ]
     },
     "execution_count": 42,
     "metadata": {},
     "output_type": "execute_result"
    }
   ],
   "source": [
    "df.head()"
   ]
  },
  {
   "cell_type": "code",
   "execution_count": 43,
   "id": "46642f15",
   "metadata": {},
   "outputs": [],
   "source": [
    "def prep_titanic(df):\n",
    "    '''This function takes in the titanic df specifically and drops the \n",
    "    listed columns and creates dummy variables for the selected columns'''\n",
    "    \n",
    "    drop_cols = ['Unnamed: 0', 'passenger_id', 'embarked', 'class', 'deck']\n",
    "    \n",
    "    df.drop(columns = drop_cols, inplace = True)\n",
    "    \n",
    "    dummies = pd.get_dummies(df[['sex', 'embark_town']], drop_first = True)\n",
    "\n",
    "    df = pd.concat([df, dummies], axis = 1)\n",
    "    \n",
    "    df.drop(columns = ['sex', 'embark_town'], inplace = True)\n",
    "    \n",
    "    df.rename(columns = {'embark_town_Queenstown': 'embark_Q', 'embark_town_Southampton': 'embark_S'}, inplace = True)\n",
    "    \n",
    "    return df\n",
    "\n"
   ]
  },
  {
   "cell_type": "code",
   "execution_count": 44,
   "id": "7d9a2e99",
   "metadata": {},
   "outputs": [],
   "source": [
    "df = prep_titanic(df)"
   ]
  },
  {
   "cell_type": "code",
   "execution_count": 46,
   "id": "45f260a5",
   "metadata": {},
   "outputs": [
    {
     "data": {
      "text/html": [
       "<div>\n",
       "<style scoped>\n",
       "    .dataframe tbody tr th:only-of-type {\n",
       "        vertical-align: middle;\n",
       "    }\n",
       "\n",
       "    .dataframe tbody tr th {\n",
       "        vertical-align: top;\n",
       "    }\n",
       "\n",
       "    .dataframe thead th {\n",
       "        text-align: right;\n",
       "    }\n",
       "</style>\n",
       "<table border=\"1\" class=\"dataframe\">\n",
       "  <thead>\n",
       "    <tr style=\"text-align: right;\">\n",
       "      <th></th>\n",
       "      <th>survived</th>\n",
       "      <th>pclass</th>\n",
       "      <th>sibsp</th>\n",
       "      <th>parch</th>\n",
       "      <th>alone</th>\n",
       "      <th>sex_male</th>\n",
       "    </tr>\n",
       "  </thead>\n",
       "  <tbody>\n",
       "    <tr>\n",
       "      <th>0</th>\n",
       "      <td>0</td>\n",
       "      <td>3</td>\n",
       "      <td>1</td>\n",
       "      <td>0</td>\n",
       "      <td>0</td>\n",
       "      <td>1</td>\n",
       "    </tr>\n",
       "    <tr>\n",
       "      <th>1</th>\n",
       "      <td>1</td>\n",
       "      <td>1</td>\n",
       "      <td>1</td>\n",
       "      <td>0</td>\n",
       "      <td>0</td>\n",
       "      <td>0</td>\n",
       "    </tr>\n",
       "    <tr>\n",
       "      <th>2</th>\n",
       "      <td>1</td>\n",
       "      <td>3</td>\n",
       "      <td>0</td>\n",
       "      <td>0</td>\n",
       "      <td>1</td>\n",
       "      <td>0</td>\n",
       "    </tr>\n",
       "    <tr>\n",
       "      <th>3</th>\n",
       "      <td>1</td>\n",
       "      <td>1</td>\n",
       "      <td>1</td>\n",
       "      <td>0</td>\n",
       "      <td>0</td>\n",
       "      <td>0</td>\n",
       "    </tr>\n",
       "    <tr>\n",
       "      <th>4</th>\n",
       "      <td>0</td>\n",
       "      <td>3</td>\n",
       "      <td>0</td>\n",
       "      <td>0</td>\n",
       "      <td>1</td>\n",
       "      <td>1</td>\n",
       "    </tr>\n",
       "    <tr>\n",
       "      <th>...</th>\n",
       "      <td>...</td>\n",
       "      <td>...</td>\n",
       "      <td>...</td>\n",
       "      <td>...</td>\n",
       "      <td>...</td>\n",
       "      <td>...</td>\n",
       "    </tr>\n",
       "    <tr>\n",
       "      <th>886</th>\n",
       "      <td>0</td>\n",
       "      <td>2</td>\n",
       "      <td>0</td>\n",
       "      <td>0</td>\n",
       "      <td>1</td>\n",
       "      <td>1</td>\n",
       "    </tr>\n",
       "    <tr>\n",
       "      <th>887</th>\n",
       "      <td>1</td>\n",
       "      <td>1</td>\n",
       "      <td>0</td>\n",
       "      <td>0</td>\n",
       "      <td>1</td>\n",
       "      <td>0</td>\n",
       "    </tr>\n",
       "    <tr>\n",
       "      <th>888</th>\n",
       "      <td>0</td>\n",
       "      <td>3</td>\n",
       "      <td>1</td>\n",
       "      <td>2</td>\n",
       "      <td>0</td>\n",
       "      <td>0</td>\n",
       "    </tr>\n",
       "    <tr>\n",
       "      <th>889</th>\n",
       "      <td>1</td>\n",
       "      <td>1</td>\n",
       "      <td>0</td>\n",
       "      <td>0</td>\n",
       "      <td>1</td>\n",
       "      <td>1</td>\n",
       "    </tr>\n",
       "    <tr>\n",
       "      <th>890</th>\n",
       "      <td>0</td>\n",
       "      <td>3</td>\n",
       "      <td>0</td>\n",
       "      <td>0</td>\n",
       "      <td>1</td>\n",
       "      <td>1</td>\n",
       "    </tr>\n",
       "  </tbody>\n",
       "</table>\n",
       "<p>891 rows × 6 columns</p>\n",
       "</div>"
      ],
      "text/plain": [
       "     survived  pclass  sibsp  parch  alone  sex_male\n",
       "0           0       3      1      0      0         1\n",
       "1           1       1      1      0      0         0\n",
       "2           1       3      0      0      1         0\n",
       "3           1       1      1      0      0         0\n",
       "4           0       3      0      0      1         1\n",
       "..        ...     ...    ...    ...    ...       ...\n",
       "886         0       2      0      0      1         1\n",
       "887         1       1      0      0      1         0\n",
       "888         0       3      1      2      0         0\n",
       "889         1       1      0      0      1         1\n",
       "890         0       3      0      0      1         1\n",
       "\n",
       "[891 rows x 6 columns]"
      ]
     },
     "execution_count": 46,
     "metadata": {},
     "output_type": "execute_result"
    }
   ],
   "source": [
    "df.drop(columns = ['age', 'fare', 'embark_Q', 'embark_S'], inplace = True)\n",
    "df"
   ]
  },
  {
   "cell_type": "code",
   "execution_count": 49,
   "id": "7d7c1ae1",
   "metadata": {},
   "outputs": [],
   "source": [
    "df = df.astype(int)"
   ]
  },
  {
   "cell_type": "code",
   "execution_count": 51,
   "id": "bdf31cb7",
   "metadata": {},
   "outputs": [],
   "source": [
    "def train_val_test(df, target, seed=42):\n",
    "    '''This function splits the data by taking in a data frame and splits it into 3 sections; train, validate and test\n",
    "    so you can run your data through an algorithm to test it for acuracy'''\n",
    "    \n",
    "    train, val_test = train_test_split(df, train_size=0.7, random_state=seed, stratify=df[target])\n",
    "    \n",
    "    val, test = train_test_split(val_test, train_size=0.5, random_state=seed, stratify=val_test[target])\n",
    "    \n",
    "    return train, val, test"
   ]
  },
  {
   "cell_type": "code",
   "execution_count": 52,
   "id": "8b408546",
   "metadata": {},
   "outputs": [
    {
     "data": {
      "text/plain": [
       "((623, 6), (134, 6), (134, 6))"
      ]
     },
     "execution_count": 52,
     "metadata": {},
     "output_type": "execute_result"
    }
   ],
   "source": [
    "train, val, test = train_val_test(df, 'survived')\n",
    "\n",
    "train.shape, val.shape, test.shape"
   ]
  },
  {
   "cell_type": "code",
   "execution_count": 54,
   "id": "1ae4eeee",
   "metadata": {},
   "outputs": [],
   "source": [
    "X_train = train.drop(columns = ['survived'])\n",
    "y_train = train['survived']\n",
    "\n",
    "X_val = val.drop(columns = ['survived'])\n",
    "y_val = val['survived']\n",
    "\n",
    "X_test = test.drop(columns = ['survived'])\n",
    "y_test = test['survived']"
   ]
  },
  {
   "cell_type": "code",
   "execution_count": 62,
   "id": "46f28a87",
   "metadata": {},
   "outputs": [],
   "source": [
    "seed = 49\n",
    "\n",
    "rf = RandomForestClassifier(max_depth = 10, random_state = 49,\n",
    "                           max_samples = 0.5, min_samples_leaf = 1)"
   ]
  },
  {
   "cell_type": "code",
   "execution_count": 63,
   "id": "a610824c",
   "metadata": {},
   "outputs": [
    {
     "data": {
      "text/html": [
       "<style>#sk-container-id-4 {color: black;background-color: white;}#sk-container-id-4 pre{padding: 0;}#sk-container-id-4 div.sk-toggleable {background-color: white;}#sk-container-id-4 label.sk-toggleable__label {cursor: pointer;display: block;width: 100%;margin-bottom: 0;padding: 0.3em;box-sizing: border-box;text-align: center;}#sk-container-id-4 label.sk-toggleable__label-arrow:before {content: \"▸\";float: left;margin-right: 0.25em;color: #696969;}#sk-container-id-4 label.sk-toggleable__label-arrow:hover:before {color: black;}#sk-container-id-4 div.sk-estimator:hover label.sk-toggleable__label-arrow:before {color: black;}#sk-container-id-4 div.sk-toggleable__content {max-height: 0;max-width: 0;overflow: hidden;text-align: left;background-color: #f0f8ff;}#sk-container-id-4 div.sk-toggleable__content pre {margin: 0.2em;color: black;border-radius: 0.25em;background-color: #f0f8ff;}#sk-container-id-4 input.sk-toggleable__control:checked~div.sk-toggleable__content {max-height: 200px;max-width: 100%;overflow: auto;}#sk-container-id-4 input.sk-toggleable__control:checked~label.sk-toggleable__label-arrow:before {content: \"▾\";}#sk-container-id-4 div.sk-estimator input.sk-toggleable__control:checked~label.sk-toggleable__label {background-color: #d4ebff;}#sk-container-id-4 div.sk-label input.sk-toggleable__control:checked~label.sk-toggleable__label {background-color: #d4ebff;}#sk-container-id-4 input.sk-hidden--visually {border: 0;clip: rect(1px 1px 1px 1px);clip: rect(1px, 1px, 1px, 1px);height: 1px;margin: -1px;overflow: hidden;padding: 0;position: absolute;width: 1px;}#sk-container-id-4 div.sk-estimator {font-family: monospace;background-color: #f0f8ff;border: 1px dotted black;border-radius: 0.25em;box-sizing: border-box;margin-bottom: 0.5em;}#sk-container-id-4 div.sk-estimator:hover {background-color: #d4ebff;}#sk-container-id-4 div.sk-parallel-item::after {content: \"\";width: 100%;border-bottom: 1px solid gray;flex-grow: 1;}#sk-container-id-4 div.sk-label:hover label.sk-toggleable__label {background-color: #d4ebff;}#sk-container-id-4 div.sk-serial::before {content: \"\";position: absolute;border-left: 1px solid gray;box-sizing: border-box;top: 0;bottom: 0;left: 50%;z-index: 0;}#sk-container-id-4 div.sk-serial {display: flex;flex-direction: column;align-items: center;background-color: white;padding-right: 0.2em;padding-left: 0.2em;position: relative;}#sk-container-id-4 div.sk-item {position: relative;z-index: 1;}#sk-container-id-4 div.sk-parallel {display: flex;align-items: stretch;justify-content: center;background-color: white;position: relative;}#sk-container-id-4 div.sk-item::before, #sk-container-id-4 div.sk-parallel-item::before {content: \"\";position: absolute;border-left: 1px solid gray;box-sizing: border-box;top: 0;bottom: 0;left: 50%;z-index: -1;}#sk-container-id-4 div.sk-parallel-item {display: flex;flex-direction: column;z-index: 1;position: relative;background-color: white;}#sk-container-id-4 div.sk-parallel-item:first-child::after {align-self: flex-end;width: 50%;}#sk-container-id-4 div.sk-parallel-item:last-child::after {align-self: flex-start;width: 50%;}#sk-container-id-4 div.sk-parallel-item:only-child::after {width: 0;}#sk-container-id-4 div.sk-dashed-wrapped {border: 1px dashed gray;margin: 0 0.4em 0.5em 0.4em;box-sizing: border-box;padding-bottom: 0.4em;background-color: white;}#sk-container-id-4 div.sk-label label {font-family: monospace;font-weight: bold;display: inline-block;line-height: 1.2em;}#sk-container-id-4 div.sk-label-container {text-align: center;}#sk-container-id-4 div.sk-container {/* jupyter's `normalize.less` sets `[hidden] { display: none; }` but bootstrap.min.css set `[hidden] { display: none !important; }` so we also need the `!important` here to be able to override the default hidden behavior on the sphinx rendered scikit-learn.org. See: https://github.com/scikit-learn/scikit-learn/issues/21755 */display: inline-block !important;position: relative;}#sk-container-id-4 div.sk-text-repr-fallback {display: none;}</style><div id=\"sk-container-id-4\" class=\"sk-top-container\"><div class=\"sk-text-repr-fallback\"><pre>RandomForestClassifier(max_depth=10, max_samples=0.5, random_state=49)</pre><b>In a Jupyter environment, please rerun this cell to show the HTML representation or trust the notebook. <br />On GitHub, the HTML representation is unable to render, please try loading this page with nbviewer.org.</b></div><div class=\"sk-container\" hidden><div class=\"sk-item\"><div class=\"sk-estimator sk-toggleable\"><input class=\"sk-toggleable__control sk-hidden--visually\" id=\"sk-estimator-id-4\" type=\"checkbox\" checked><label for=\"sk-estimator-id-4\" class=\"sk-toggleable__label sk-toggleable__label-arrow\">RandomForestClassifier</label><div class=\"sk-toggleable__content\"><pre>RandomForestClassifier(max_depth=10, max_samples=0.5, random_state=49)</pre></div></div></div></div></div>"
      ],
      "text/plain": [
       "RandomForestClassifier(max_depth=10, max_samples=0.5, random_state=49)"
      ]
     },
     "execution_count": 63,
     "metadata": {},
     "output_type": "execute_result"
    }
   ],
   "source": [
    "rf.fit(X_train, y_train)"
   ]
  },
  {
   "cell_type": "code",
   "execution_count": 64,
   "id": "d79f1938",
   "metadata": {},
   "outputs": [
    {
     "data": {
      "text/plain": [
       "0.8378812199036918"
      ]
     },
     "execution_count": 64,
     "metadata": {},
     "output_type": "execute_result"
    }
   ],
   "source": [
    "rf.score(X_train, y_train)"
   ]
  },
  {
   "cell_type": "code",
   "execution_count": 66,
   "id": "e7a7cbc7",
   "metadata": {},
   "outputs": [],
   "source": [
    "y_pred = rf.predict(X_train)"
   ]
  },
  {
   "cell_type": "code",
   "execution_count": 67,
   "id": "c24049d0",
   "metadata": {},
   "outputs": [
    {
     "data": {
      "text/plain": [
       "array([[351,  33],\n",
       "       [ 68, 171]])"
      ]
     },
     "execution_count": 67,
     "metadata": {},
     "output_type": "execute_result"
    }
   ],
   "source": [
    "confusion_matrix(y_train, y_pred)"
   ]
  },
  {
   "cell_type": "code",
   "execution_count": 70,
   "id": "a3c13f57",
   "metadata": {},
   "outputs": [],
   "source": [
    "val_preds = rf.predict(X_val)"
   ]
  },
  {
   "cell_type": "code",
   "execution_count": 72,
   "id": "63ffefbd",
   "metadata": {},
   "outputs": [
    {
     "name": "stdout",
     "output_type": "stream",
     "text": [
      "              precision    recall  f1-score   support\n",
      "\n",
      "           0       0.83      0.88      0.85        82\n",
      "           1       0.79      0.71      0.75        52\n",
      "\n",
      "    accuracy                           0.81       134\n",
      "   macro avg       0.81      0.79      0.80       134\n",
      "weighted avg       0.81      0.81      0.81       134\n",
      "\n"
     ]
    }
   ],
   "source": [
    "print(classification_report(y_val, val_preds))"
   ]
  },
  {
   "cell_type": "code",
   "execution_count": 73,
   "id": "4ec35fcd",
   "metadata": {},
   "outputs": [
    {
     "name": "stdout",
     "output_type": "stream",
     "text": [
      "True positive rate is: 0.5634028892455859\n",
      "True negative rate is: 0.27447833065810595\n",
      "False positive rate is: 0.052969502407704656\n",
      "False Negative rate is: 0.10914927768860354\n"
     ]
    }
   ],
   "source": [
    "print(\"True positive rate is:\", 351/623)\n",
    "print(\"True negative rate is:\", 171/623)\n",
    "print(\"False positive rate is:\", 33/623)\n",
    "print(\"False Negative rate is:\", 68/623)"
   ]
  },
  {
   "cell_type": "code",
   "execution_count": 80,
   "id": "b50c92bd",
   "metadata": {},
   "outputs": [
    {
     "name": "stdout",
     "output_type": "stream",
     "text": [
      "Max depth of 3 Train accuracy:  0.8154093097913323 Validation accuracy:  0.8432835820895522\n",
      "\n",
      "----------------------------------------------\n",
      "\n",
      "Max depth of 4 Train accuracy:  0.8282504012841091 Validation accuracy:  0.8208955223880597\n",
      "\n",
      "----------------------------------------------\n",
      "\n",
      "Max depth of 5 Train accuracy:  0.826645264847512 Validation accuracy:  0.8134328358208955\n",
      "\n",
      "----------------------------------------------\n",
      "\n",
      "Max depth of 6 Train accuracy:  0.8298555377207063 Validation accuracy:  0.8283582089552238\n",
      "\n",
      "----------------------------------------------\n",
      "\n",
      "Max depth of 7 Train accuracy:  0.8330658105939005 Validation accuracy:  0.8059701492537313\n",
      "\n",
      "----------------------------------------------\n",
      "\n",
      "Max depth of 8 Train accuracy:  0.8314606741573034 Validation accuracy:  0.8283582089552238\n",
      "\n",
      "----------------------------------------------\n",
      "\n",
      "Max depth of 9 Train accuracy:  0.8314606741573034 Validation accuracy:  0.8283582089552238\n",
      "\n",
      "----------------------------------------------\n",
      "\n",
      "Max depth of 10 Train accuracy:  0.8314606741573034 Validation accuracy:  0.8283582089552238\n",
      "\n",
      "----------------------------------------------\n",
      "\n"
     ]
    }
   ],
   "source": [
    "for i in range(3, 11):\n",
    "    rf = RandomForestClassifier(max_depth=i, random_state=49,\n",
    "                               max_samples = 0.5, min_samples_leaf = 2)\n",
    "    rf.fit(X_train, y_train)\n",
    "   \n",
    "    train_acc = rf.score(X_train, y_train)\n",
    "    \n",
    "    val_acc = rf.score(X_val, y_val)\n",
    "    \n",
    "    print('Max depth of', i, 'Train accuracy: ', train_acc, 'Validation accuracy: ', val_acc)\n",
    "    print()\n",
    "    print('----------------------------------------------')\n",
    "    print()\n",
    "    "
   ]
  },
  {
   "cell_type": "markdown",
   "id": "23af6e77",
   "metadata": {},
   "source": [
    "The higher the min_sample_leaf value is, the smaller the difference between train and validate accuracy gets and eventually the validate accuracy surpasses the train accuracy"
   ]
  },
  {
   "cell_type": "markdown",
   "id": "b92e38ad",
   "metadata": {},
   "source": [
    "# What are the differences in the evaluation metrics? Which performs better on your in-sample data? Why?"
   ]
  },
  {
   "cell_type": "code",
   "execution_count": 81,
   "id": "32a54f51",
   "metadata": {},
   "outputs": [
    {
     "name": "stdout",
     "output_type": "stream",
     "text": [
      "Tree with a max depth of 1\n",
      "                    0           1  accuracy   macro avg  weighted avg\n",
      "precision    0.812808    0.751152  0.791332    0.781980      0.789155\n",
      "recall       0.859375    0.682008  0.791332    0.770692      0.791332\n",
      "f1-score     0.835443    0.714912  0.791332    0.775178      0.789204\n",
      "support    384.000000  239.000000  0.791332  623.000000    623.000000\n",
      "Tree with a max depth of 2\n",
      "                    0           1  accuracy   macro avg  weighted avg\n",
      "precision    0.810875    0.795000  0.805778    0.802937      0.804785\n",
      "recall       0.893229    0.665272  0.805778    0.779251      0.805778\n",
      "f1-score     0.850062    0.724374  0.805778    0.787218      0.801844\n",
      "support    384.000000  239.000000  0.805778  623.000000    623.000000\n",
      "Tree with a max depth of 3\n",
      "                    0           1  accuracy   macro avg  weighted avg\n",
      "precision    0.816667    0.798030  0.810594    0.807348      0.809517\n",
      "recall       0.893229    0.677824  0.810594    0.785527      0.810594\n",
      "f1-score     0.853234    0.733032  0.810594    0.793133      0.807121\n",
      "support    384.000000  239.000000  0.810594  623.000000    623.000000\n",
      "Tree with a max depth of 4\n",
      "                    0           1  accuracy   macro avg  weighted avg\n",
      "precision    0.821759    0.848168  0.829856    0.834963      0.831890\n",
      "recall       0.924479    0.677824  0.829856    0.801152      0.829856\n",
      "f1-score     0.870098    0.753488  0.829856    0.811793      0.825363\n",
      "support    384.000000  239.000000  0.829856  623.000000    623.000000\n",
      "Tree with a max depth of 5\n",
      "                    0           1  accuracy   macro avg  weighted avg\n",
      "precision    0.820690    0.856383  0.831461    0.838536      0.834383\n",
      "recall       0.929688    0.673640  0.831461    0.801664      0.831461\n",
      "f1-score     0.871795    0.754098  0.831461    0.812947      0.826643\n",
      "support    384.000000  239.000000  0.831461  623.000000    623.000000\n",
      "Tree with a max depth of 6\n",
      "                    0           1  accuracy   macro avg  weighted avg\n",
      "precision    0.830986    0.847716  0.836276    0.839351      0.837404\n",
      "recall       0.921875    0.698745  0.836276    0.810310      0.836276\n",
      "f1-score     0.874074    0.766055  0.836276    0.820065      0.832635\n",
      "support    384.000000  239.000000  0.836276  623.000000    623.000000\n",
      "Tree with a max depth of 7\n",
      "                    0           1  accuracy   macro avg  weighted avg\n",
      "precision    0.831382    0.852041  0.837881    0.841711      0.839307\n",
      "recall       0.924479    0.698745  0.837881    0.811612      0.837881\n",
      "f1-score     0.875462    0.767816  0.837881    0.821639      0.834166\n",
      "support    384.000000  239.000000  0.837881  623.000000    623.000000\n",
      "Tree with a max depth of 8\n",
      "                    0           1  accuracy   macro avg  weighted avg\n",
      "precision    0.832941    0.848485  0.837881    0.840713      0.838904\n",
      "recall       0.921875    0.702929  0.837881    0.812402      0.837881\n",
      "f1-score     0.875155    0.768879  0.837881    0.822017      0.834384\n",
      "support    384.000000  239.000000  0.837881  623.000000    623.000000\n",
      "Tree with a max depth of 9\n",
      "                    0           1  accuracy   macro avg  weighted avg\n",
      "precision    0.832941    0.848485  0.837881    0.840713      0.838904\n",
      "recall       0.921875    0.702929  0.837881    0.812402      0.837881\n",
      "f1-score     0.875155    0.768879  0.837881    0.822017      0.834384\n",
      "support    384.000000  239.000000  0.837881  623.000000    623.000000\n",
      "Tree with a max depth of 10\n",
      "                    0           1  accuracy   macro avg  weighted avg\n",
      "precision    0.837709    0.838235  0.837881    0.837972      0.837911\n",
      "recall       0.914062    0.715481  0.837881    0.814772      0.837881\n",
      "f1-score     0.874222    0.772009  0.837881    0.823115      0.835010\n",
      "support    384.000000  239.000000  0.837881  623.000000    623.000000\n",
      "Tree with a max depth of 11\n",
      "                    0           1  accuracy   macro avg  weighted avg\n",
      "precision    0.836105    0.841584  0.837881    0.838844      0.838207\n",
      "recall       0.916667    0.711297  0.837881    0.813982      0.837881\n",
      "f1-score     0.874534    0.770975  0.837881    0.822755      0.834806\n",
      "support    384.000000  239.000000  0.837881  623.000000    623.000000\n",
      "Tree with a max depth of 12\n",
      "                    0           1  accuracy   macro avg  weighted avg\n",
      "precision    0.836105    0.841584  0.837881    0.838844      0.838207\n",
      "recall       0.916667    0.711297  0.837881    0.813982      0.837881\n",
      "f1-score     0.874534    0.770975  0.837881    0.822755      0.834806\n",
      "support    384.000000  239.000000  0.837881  623.000000    623.000000\n",
      "Tree with a max depth of 13\n",
      "                    0           1  accuracy   macro avg  weighted avg\n",
      "precision    0.836105    0.841584  0.837881    0.838844      0.838207\n",
      "recall       0.916667    0.711297  0.837881    0.813982      0.837881\n",
      "f1-score     0.874534    0.770975  0.837881    0.822755      0.834806\n",
      "support    384.000000  239.000000  0.837881  623.000000    623.000000\n",
      "Tree with a max depth of 14\n",
      "                    0           1  accuracy   macro avg  weighted avg\n",
      "precision    0.836105    0.841584  0.837881    0.838844      0.838207\n",
      "recall       0.916667    0.711297  0.837881    0.813982      0.837881\n",
      "f1-score     0.874534    0.770975  0.837881    0.822755      0.834806\n",
      "support    384.000000  239.000000  0.837881  623.000000    623.000000\n",
      "Tree with a max depth of 15\n",
      "                    0           1  accuracy   macro avg  weighted avg\n",
      "precision    0.836105    0.841584  0.837881    0.838844      0.838207\n",
      "recall       0.916667    0.711297  0.837881    0.813982      0.837881\n",
      "f1-score     0.874534    0.770975  0.837881    0.822755      0.834806\n",
      "support    384.000000  239.000000  0.837881  623.000000    623.000000\n",
      "Tree with a max depth of 16\n",
      "                    0           1  accuracy   macro avg  weighted avg\n",
      "precision    0.836105    0.841584  0.837881    0.838844      0.838207\n",
      "recall       0.916667    0.711297  0.837881    0.813982      0.837881\n",
      "f1-score     0.874534    0.770975  0.837881    0.822755      0.834806\n",
      "support    384.000000  239.000000  0.837881  623.000000    623.000000\n",
      "Tree with a max depth of 17\n",
      "                    0           1  accuracy   macro avg  weighted avg\n",
      "precision    0.836105    0.841584  0.837881    0.838844      0.838207\n",
      "recall       0.916667    0.711297  0.837881    0.813982      0.837881\n",
      "f1-score     0.874534    0.770975  0.837881    0.822755      0.834806\n",
      "support    384.000000  239.000000  0.837881  623.000000    623.000000\n",
      "Tree with a max depth of 18\n",
      "                    0           1  accuracy   macro avg  weighted avg\n",
      "precision    0.836105    0.841584  0.837881    0.838844      0.838207\n",
      "recall       0.916667    0.711297  0.837881    0.813982      0.837881\n",
      "f1-score     0.874534    0.770975  0.837881    0.822755      0.834806\n",
      "support    384.000000  239.000000  0.837881  623.000000    623.000000\n",
      "Tree with a max depth of 19\n",
      "                    0           1  accuracy   macro avg  weighted avg\n",
      "precision    0.836105    0.841584  0.837881    0.838844      0.838207\n",
      "recall       0.916667    0.711297  0.837881    0.813982      0.837881\n",
      "f1-score     0.874534    0.770975  0.837881    0.822755      0.834806\n",
      "support    384.000000  239.000000  0.837881  623.000000    623.000000\n",
      "Tree with a max depth of 20\n",
      "                    0           1  accuracy   macro avg  weighted avg\n",
      "precision    0.836105    0.841584  0.837881    0.838844      0.838207\n",
      "recall       0.916667    0.711297  0.837881    0.813982      0.837881\n",
      "f1-score     0.874534    0.770975  0.837881    0.822755      0.834806\n",
      "support    384.000000  239.000000  0.837881  623.000000    623.000000\n"
     ]
    }
   ],
   "source": [
    "for i in range(1, 21):\n",
    "    trees = RandomForestClassifier(max_depth= i, random_state = 49)\n",
    "    trees = trees.fit(X_train, y_train)\n",
    "    y_preds = trees.predict(X_train)\n",
    "    report = classification_report(y_train, y_preds, output_dict = True)\n",
    "    print('Tree with a max depth of', i)\n",
    "    print(pd.DataFrame(report))"
   ]
  },
  {
   "cell_type": "code",
   "execution_count": 85,
   "id": "bc2a0ac5",
   "metadata": {},
   "outputs": [
    {
     "data": {
      "text/html": [
       "<div>\n",
       "<style scoped>\n",
       "    .dataframe tbody tr th:only-of-type {\n",
       "        vertical-align: middle;\n",
       "    }\n",
       "\n",
       "    .dataframe tbody tr th {\n",
       "        vertical-align: top;\n",
       "    }\n",
       "\n",
       "    .dataframe thead th {\n",
       "        text-align: right;\n",
       "    }\n",
       "</style>\n",
       "<table border=\"1\" class=\"dataframe\">\n",
       "  <thead>\n",
       "    <tr style=\"text-align: right;\">\n",
       "      <th></th>\n",
       "      <th>max_depth</th>\n",
       "      <th>train_accuracy</th>\n",
       "      <th>validate_accuracy</th>\n",
       "      <th>difference</th>\n",
       "    </tr>\n",
       "  </thead>\n",
       "  <tbody>\n",
       "    <tr>\n",
       "      <th>0</th>\n",
       "      <td>1</td>\n",
       "      <td>0.791332</td>\n",
       "      <td>0.813433</td>\n",
       "      <td>-0.022101</td>\n",
       "    </tr>\n",
       "    <tr>\n",
       "      <th>1</th>\n",
       "      <td>2</td>\n",
       "      <td>0.805778</td>\n",
       "      <td>0.843284</td>\n",
       "      <td>-0.037505</td>\n",
       "    </tr>\n",
       "    <tr>\n",
       "      <th>2</th>\n",
       "      <td>3</td>\n",
       "      <td>0.810594</td>\n",
       "      <td>0.843284</td>\n",
       "      <td>-0.032690</td>\n",
       "    </tr>\n",
       "    <tr>\n",
       "      <th>3</th>\n",
       "      <td>4</td>\n",
       "      <td>0.829856</td>\n",
       "      <td>0.813433</td>\n",
       "      <td>0.016423</td>\n",
       "    </tr>\n",
       "    <tr>\n",
       "      <th>4</th>\n",
       "      <td>5</td>\n",
       "      <td>0.831461</td>\n",
       "      <td>0.813433</td>\n",
       "      <td>0.018028</td>\n",
       "    </tr>\n",
       "    <tr>\n",
       "      <th>5</th>\n",
       "      <td>6</td>\n",
       "      <td>0.836276</td>\n",
       "      <td>0.813433</td>\n",
       "      <td>0.022843</td>\n",
       "    </tr>\n",
       "    <tr>\n",
       "      <th>6</th>\n",
       "      <td>7</td>\n",
       "      <td>0.837881</td>\n",
       "      <td>0.820896</td>\n",
       "      <td>0.016986</td>\n",
       "    </tr>\n",
       "    <tr>\n",
       "      <th>7</th>\n",
       "      <td>8</td>\n",
       "      <td>0.837881</td>\n",
       "      <td>0.820896</td>\n",
       "      <td>0.016986</td>\n",
       "    </tr>\n",
       "    <tr>\n",
       "      <th>8</th>\n",
       "      <td>9</td>\n",
       "      <td>0.837881</td>\n",
       "      <td>0.820896</td>\n",
       "      <td>0.016986</td>\n",
       "    </tr>\n",
       "  </tbody>\n",
       "</table>\n",
       "</div>"
      ],
      "text/plain": [
       "   max_depth  train_accuracy  validate_accuracy  difference\n",
       "0          1        0.791332           0.813433   -0.022101\n",
       "1          2        0.805778           0.843284   -0.037505\n",
       "2          3        0.810594           0.843284   -0.032690\n",
       "3          4        0.829856           0.813433    0.016423\n",
       "4          5        0.831461           0.813433    0.018028\n",
       "5          6        0.836276           0.813433    0.022843\n",
       "6          7        0.837881           0.820896    0.016986\n",
       "7          8        0.837881           0.820896    0.016986\n",
       "8          9        0.837881           0.820896    0.016986"
      ]
     },
     "execution_count": 85,
     "metadata": {},
     "output_type": "execute_result"
    }
   ],
   "source": [
    "metrics = []\n",
    "\n",
    "for i in range(1, 10):\n",
    "    tree = RandomForestClassifier(max_depth= i, random_state = 49)\n",
    "    tree = tree.fit(X_train, y_train)\n",
    "    in_sample_accuracy = tree.score(X_train, y_train)\n",
    "    out_of_sample_accuracy = tree.score(X_val, y_val)\n",
    "    output = {'max_depth': i, 'train_accuracy': in_sample_accuracy, 'validate_accuracy': out_of_sample_accuracy}\n",
    "    \n",
    "    metrics.append(output)\n",
    "\n",
    "df = pd.DataFrame(metrics)\n",
    "df['difference'] = df.train_accuracy - df.validate_accuracy\n",
    "df"
   ]
  },
  {
   "cell_type": "code",
   "execution_count": 94,
   "id": "8861590c",
   "metadata": {},
   "outputs": [
    {
     "data": {
      "image/png": "[encoded data removed]",
      "text/plain": [
       "<Figure size 1200x600 with 1 Axes>"
      ]
     },
     "metadata": {},
     "output_type": "display_data"
    }
   ],
   "source": [
    "plt.figure(figsize = (12, 6))\n",
    "plt.plot(df.max_depth, df.train_accuracy, marker = 's', label = 'Train')\n",
    "plt.plot(df.max_depth, df.validate_accuracy, marker = 's', label = 'Validate')\n",
    "plt.legend()\n",
    "plt.show()"
   ]
  },
  {
   "cell_type": "code",
   "execution_count": null,
   "id": "4f8047ba",
   "metadata": {},
   "outputs": [],
   "source": []
  }
 ],
 "metadata": {
  "kernelspec": {
   "display_name": "Python 3 (ipykernel)",
   "language": "python",
   "name": "python3"
  },
  "language_info": {
   "codemirror_mode": {
    "name": "ipython",
    "version": 3
   },
   "file_extension": ".py",
   "mimetype": "text/x-python",
   "name": "python",
   "nbconvert_exporter": "python",
   "pygments_lexer": "ipython3",
   "version": "3.9.13"
  }
 },
 "nbformat": 4,
 "nbformat_minor": 5
}
